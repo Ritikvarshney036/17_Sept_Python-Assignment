{
 "cells": [
  {
   "cell_type": "markdown",
   "id": "69842f03-7396-4458-a234-b39abeaf8cc6",
   "metadata": {},
   "source": [
    "## For Loop :- "
   ]
  },
  {
   "cell_type": "markdown",
   "id": "64e0b771-77dd-4fcf-b849-69c4ccfd4311",
   "metadata": {},
   "source": [
    "1. Write a Python program to print numbers from 1 to 10 using a for loop."
   ]
  },
  {
   "cell_type": "code",
   "execution_count": 1,
   "id": "3bca1e70-3cfb-4a36-9f5d-736219369b7d",
   "metadata": {},
   "outputs": [
    {
     "name": "stdout",
     "output_type": "stream",
     "text": [
      "1\n",
      "2\n",
      "3\n",
      "4\n",
      "5\n",
      "6\n",
      "7\n",
      "8\n",
      "9\n",
      "10\n"
     ]
    }
   ],
   "source": [
    "for i in range(1,11):\n",
    "    print(i)"
   ]
  },
  {
   "cell_type": "code",
   "execution_count": null,
   "id": "0adaf01d-e313-405d-8d21-467ce42004ca",
   "metadata": {},
   "outputs": [],
   "source": []
  },
  {
   "cell_type": "markdown",
   "id": "defdd539-5170-4d9d-9f8c-bcfe8261d1f2",
   "metadata": {},
   "source": [
    "2. Explain the difference between a for loop and a while loop in Python."
   ]
  },
  {
   "cell_type": "markdown",
   "id": "661c0243-865b-47cc-a8ba-98f488fe816f",
   "metadata": {},
   "source": [
    "For loop:\n",
    "\n",
    "1. For loop is used to iterate over a sequence of items.\n",
    "2. For loops are designed for iterating over a sequence of items. Eg. list, tuple, etc.\n",
    "3. For loop require a sequence to iterate over.\n",
    "4. For loop is typically used for iterating over a fixed sequence of items.\n",
    "5. For loop is more efficient than a while loop when iterating over sequences, since the number of iterations is predetermined and the loop can be optimized accordingly.\n",
    "\n",
    "While loop:\n",
    "\n",
    "1. While loop is used to repeatedly execute a block of statements while a condition is true.\n",
    "2. While loop is used when the number of iterations is not known in advance or when we want to repeat a block of code until a certain condition is met.\n",
    "3. While the loop requires an initial condition that is tested at the beginning of the loop.\n",
    "4. While loop is used for more complex control flow situations.\n",
    "5. While a loop may be more efficient in certain situations where the condition being tested can be evaluated quickly."
   ]
  },
  {
   "cell_type": "code",
   "execution_count": null,
   "id": "f51c9c10-8ce7-4a76-93ea-e1ff67dfdf7f",
   "metadata": {},
   "outputs": [],
   "source": []
  },
  {
   "cell_type": "markdown",
   "id": "829f19d3-7767-484f-ad70-627061b90d42",
   "metadata": {},
   "source": [
    "3. Write a Python program to calculate the sum of all numbers from 1 to 100 using a for loop. "
   ]
  },
  {
   "cell_type": "code",
   "execution_count": 14,
   "id": "8933a065-c557-427a-a8ec-c3a5dbfd761f",
   "metadata": {},
   "outputs": [
    {
     "name": "stdout",
     "output_type": "stream",
     "text": [
      "5050\n"
     ]
    }
   ],
   "source": [
    "s=0\n",
    "l=range(1,101)\n",
    "for i in l:\n",
    "    s=s+i\n",
    "print(s)    "
   ]
  },
  {
   "cell_type": "code",
   "execution_count": null,
   "id": "bd2c6955-7adb-4cfc-bcf3-dac0c57d54ee",
   "metadata": {},
   "outputs": [],
   "source": []
  },
  {
   "cell_type": "markdown",
   "id": "012004bf-8102-4d0d-bda8-dd776918b248",
   "metadata": {},
   "source": [
    "4. How do you iterate through a list using a for loop in Python?"
   ]
  },
  {
   "cell_type": "markdown",
   "id": "bf9312e0-b1c5-4094-adf3-1bbf80ccfa81",
   "metadata": {},
   "source": [
    "If we want to iterate a list using a loop. For this we have a list of element in the list .If we start the for loop in the list of element of them it will execute the one by one."
   ]
  },
  {
   "cell_type": "code",
   "execution_count": 1,
   "id": "792eeb74-a0de-4bb9-8d07-c9cf12cc461b",
   "metadata": {},
   "outputs": [
    {
     "name": "stdout",
     "output_type": "stream",
     "text": [
      "1\n",
      "2\n",
      "3\n",
      "4\n",
      "5\n"
     ]
    }
   ],
   "source": [
    "my_list = [1,2,3,4,5]\n",
    "for i in my_list:\n",
    "    print(i)"
   ]
  },
  {
   "cell_type": "code",
   "execution_count": null,
   "id": "79d34c3a-93cb-4d63-b099-46fa596cf8df",
   "metadata": {},
   "outputs": [],
   "source": []
  },
  {
   "cell_type": "markdown",
   "id": "0e06078a-314a-40d7-a73a-4d5f33420f12",
   "metadata": {},
   "source": [
    "5. Write a Python program to find the product of all elements in a list using a for loop. "
   ]
  },
  {
   "cell_type": "code",
   "execution_count": 4,
   "id": "3752f1dd-80d9-4963-a0ef-2711692bb10b",
   "metadata": {},
   "outputs": [
    {
     "name": "stdout",
     "output_type": "stream",
     "text": [
      "The product of all element in a list is: 120\n"
     ]
    }
   ],
   "source": [
    "l=[1,2,3,4,5]\n",
    "product=1\n",
    "for i in l:\n",
    "    product*=i\n",
    "print(\"The product of all element in a list is:\",product)"
   ]
  },
  {
   "cell_type": "code",
   "execution_count": null,
   "id": "9b19b6a5-586d-474e-b954-c3d597b91a7e",
   "metadata": {},
   "outputs": [],
   "source": []
  },
  {
   "cell_type": "markdown",
   "id": "672f52a3-9c36-4d36-8508-c67cb52db5b3",
   "metadata": {},
   "source": [
    "6. Create a Python program that prints all even numbers from 1 to 20 using a for loop. "
   ]
  },
  {
   "cell_type": "code",
   "execution_count": 22,
   "id": "5dc77ac9-70f1-4cc6-855d-e1090e7e2b90",
   "metadata": {},
   "outputs": [
    {
     "name": "stdout",
     "output_type": "stream",
     "text": [
      "[2, 4, 6, 8, 10, 12, 14, 16, 18, 20]\n"
     ]
    }
   ],
   "source": [
    "l=[]\n",
    "for i in range(1,21):\n",
    "    l.append(i)\n",
    "l_even=[]\n",
    "for num in l:\n",
    "    if num%2==0:\n",
    "        l_even.append(num)\n",
    "print(l_even)        "
   ]
  },
  {
   "cell_type": "code",
   "execution_count": null,
   "id": "24b4e0a9-09f5-48ae-b851-e13621ceffed",
   "metadata": {},
   "outputs": [],
   "source": []
  },
  {
   "cell_type": "markdown",
   "id": "0c606a07-85c7-49a8-aea3-ae9ab2941936",
   "metadata": {},
   "source": [
    "7. Write a Python program that calculates the factorial of a number using a for loop. "
   ]
  },
  {
   "cell_type": "code",
   "execution_count": 30,
   "id": "e78fbaca-36ce-46bc-bb38-8bcd6b2482ef",
   "metadata": {},
   "outputs": [
    {
     "name": "stdin",
     "output_type": "stream",
     "text": [
      "Enter the number:  5\n"
     ]
    },
    {
     "name": "stdout",
     "output_type": "stream",
     "text": [
      "The factorial of the given number is : 120\n"
     ]
    }
   ],
   "source": [
    "num= int(input(\"Enter the number: \"))\n",
    "s=1\n",
    "for i in range(1,num+1):\n",
    "    s=s*i\n",
    "print(\"The factorial of the given number is :\",s)    "
   ]
  },
  {
   "cell_type": "code",
   "execution_count": null,
   "id": "44f73cbf-d56c-492b-b24c-b9c95cda5991",
   "metadata": {},
   "outputs": [],
   "source": []
  },
  {
   "cell_type": "markdown",
   "id": "62b02e74-5751-4f4c-9fca-314356b7eb1c",
   "metadata": {},
   "source": [
    "8. How can you iterate through the characters of a string using a for loop in Python? "
   ]
  },
  {
   "cell_type": "markdown",
   "id": "b8fd2aa7-6c92-4b94-8c45-ffa0dbc6b2a7",
   "metadata": {},
   "source": [
    "Here, my_string is the string that you want to iterate over, and char is a variable that will hold the value of each character in the string for each\n",
    "iteration of the loop. You can replace char with any variable name of your choice.\n",
    "\n",
    "For example, let’s say you have a string called my_string:"
   ]
  },
  {
   "cell_type": "code",
   "execution_count": null,
   "id": "cdc81215-d3ec-4ef7-baf2-9d6724700a07",
   "metadata": {},
   "outputs": [],
   "source": [
    "my_string = \"Hello, World!\"\n",
    "for char in my_string:\n",
    "    print(char)"
   ]
  },
  {
   "cell_type": "code",
   "execution_count": null,
   "id": "2eb5d7bf-7d88-4d03-97b0-ba0ef495455e",
   "metadata": {},
   "outputs": [],
   "source": []
  },
  {
   "cell_type": "markdown",
   "id": "cd7e42a3-a6dd-4b32-b842-6a143b82914b",
   "metadata": {},
   "source": [
    "9. Write a Python program to find the largest number in a list using a for loop. "
   ]
  },
  {
   "cell_type": "code",
   "execution_count": 33,
   "id": "a7cb107f-3f56-4ecd-aa6f-ab86756680ed",
   "metadata": {},
   "outputs": [
    {
     "name": "stdout",
     "output_type": "stream",
     "text": [
      "The maximun value in the list is : 68\n"
     ]
    }
   ],
   "source": [
    "l=[5,52,62,3,68,32,54,25]\n",
    "max_v = l[0]\n",
    "for i in l:\n",
    "    if i > max_v:\n",
    "        max_v = i\n",
    "print(\"The maximun value in the list is :\",max_v)        "
   ]
  },
  {
   "cell_type": "code",
   "execution_count": null,
   "id": "044b72c1-c114-4750-aac9-658a51f49f3b",
   "metadata": {},
   "outputs": [],
   "source": []
  },
  {
   "cell_type": "markdown",
   "id": "4d269b13-63d2-44d6-bf18-ddc033bdae96",
   "metadata": {},
   "source": [
    "10. Create a Python program that prints the Fibonacci sequence up to a specified limit using a for loop. "
   ]
  },
  {
   "cell_type": "code",
   "execution_count": 52,
   "id": "f1e757a7-8da3-42d3-80d9-d1054e257f52",
   "metadata": {},
   "outputs": [],
   "source": [
    "def fib(limit):\n",
    "    a=0\n",
    "    b=1\n",
    "    for i in range(limit):\n",
    "        c=a+b\n",
    "        print(a)\n",
    "        a,b=b,c"
   ]
  },
  {
   "cell_type": "code",
   "execution_count": 53,
   "id": "6d5c215a-ff8f-4999-b680-c36b873c2ee3",
   "metadata": {},
   "outputs": [
    {
     "name": "stdout",
     "output_type": "stream",
     "text": [
      "0\n",
      "1\n",
      "1\n",
      "2\n",
      "3\n",
      "5\n",
      "8\n",
      "13\n",
      "21\n",
      "34\n"
     ]
    }
   ],
   "source": [
    "fib(10)"
   ]
  },
  {
   "cell_type": "code",
   "execution_count": null,
   "id": "fd7a31f4-fdc2-4035-9203-4eedfc253a38",
   "metadata": {},
   "outputs": [],
   "source": []
  },
  {
   "cell_type": "markdown",
   "id": "a60b30df-9aa9-47a1-9a1a-d60361f0925c",
   "metadata": {},
   "source": [
    "11. Write a Python program to count the number of vowels in a given string using a for loop. "
   ]
  },
  {
   "cell_type": "code",
   "execution_count": 55,
   "id": "88504b5a-a262-4f00-97e0-e84888356f63",
   "metadata": {},
   "outputs": [
    {
     "name": "stdin",
     "output_type": "stream",
     "text": [
      "Enter the string:  my name is \n"
     ]
    },
    {
     "name": "stdout",
     "output_type": "stream",
     "text": [
      "The total number of the vowel in string: 3\n"
     ]
    }
   ],
   "source": [
    "string = input(\"Enter the string: \")\n",
    "vowel='aeiouAEIOU'\n",
    "count=0\n",
    "for i in string:\n",
    "    if i in vowel:\n",
    "        count+=1\n",
    "print(\"The total number of the vowel in string:\",count)        "
   ]
  },
  {
   "cell_type": "code",
   "execution_count": null,
   "id": "045bdf74-0ffa-41b5-baad-db86321ee10d",
   "metadata": {},
   "outputs": [],
   "source": []
  },
  {
   "cell_type": "markdown",
   "id": "3e8e3b16-dc1c-49f2-9c87-40d85a886b8b",
   "metadata": {},
   "source": [
    "12. Create a Python program that generates a multiplication table for a given number using a for loop. "
   ]
  },
  {
   "cell_type": "code",
   "execution_count": 3,
   "id": "9e536650-51f5-4018-8881-d3525ca2e43a",
   "metadata": {},
   "outputs": [
    {
     "name": "stdin",
     "output_type": "stream",
     "text": [
      "Enter the number:  2\n"
     ]
    },
    {
     "name": "stdout",
     "output_type": "stream",
     "text": [
      "2*1=2\n",
      "2*2=4\n",
      "2*3=6\n",
      "2*4=8\n",
      "2*5=10\n",
      "2*6=12\n",
      "2*7=14\n",
      "2*8=16\n",
      "2*9=18\n",
      "2*10=20\n"
     ]
    }
   ],
   "source": [
    "num = int(input(\"Enter the number: \"))\n",
    "for i in range(1,11):\n",
    "    print(f'{num}*{i}={num*i}')"
   ]
  },
  {
   "cell_type": "markdown",
   "id": "06124d9c-8eb5-4139-9a94-d6876ae082cb",
   "metadata": {},
   "source": [
    "OR"
   ]
  },
  {
   "cell_type": "code",
   "execution_count": 4,
   "id": "a8201260-1aed-4635-88dc-304d4adf73be",
   "metadata": {},
   "outputs": [
    {
     "name": "stdin",
     "output_type": "stream",
     "text": [
      "Enter the number:  5\n"
     ]
    },
    {
     "name": "stdout",
     "output_type": "stream",
     "text": [
      "5*1=5\n",
      "5*2=10\n",
      "5*3=15\n",
      "5*4=20\n",
      "5*5=25\n",
      "5*6=30\n",
      "5*7=35\n",
      "5*8=40\n",
      "5*9=45\n",
      "5*10=50\n"
     ]
    }
   ],
   "source": [
    "num = int(input(\"Enter the number: \"))\n",
    "i=1\n",
    "while i<11:\n",
    "    print(f\"{num}*{i}={num*i}\")\n",
    "    i+=1"
   ]
  },
  {
   "cell_type": "code",
   "execution_count": null,
   "id": "31d74153-0e97-49b7-8bff-3c25fa0bc62d",
   "metadata": {},
   "outputs": [],
   "source": []
  },
  {
   "cell_type": "markdown",
   "id": "1c6b083e-db81-432a-9724-6c51aad24d9e",
   "metadata": {},
   "source": [
    "13. Write a Python program to reverse a list using a for loop. "
   ]
  },
  {
   "cell_type": "code",
   "execution_count": 5,
   "id": "67bc5e61-d35c-4e63-9420-9b3327965502",
   "metadata": {},
   "outputs": [
    {
     "name": "stdout",
     "output_type": "stream",
     "text": [
      "[9, 8, 7, 6, 5, 4, 3, 2, 1]\n"
     ]
    }
   ],
   "source": [
    "l=[1,2,3,4,5,6,7,8,9]\n",
    "l1=[]\n",
    "for i in range(len(l),0,-1):\n",
    "    l1.append(i)\n",
    "print(l1)"
   ]
  },
  {
   "cell_type": "code",
   "execution_count": null,
   "id": "9b29d0ce-0f65-4f13-958c-d7507ca966c1",
   "metadata": {},
   "outputs": [],
   "source": []
  },
  {
   "cell_type": "markdown",
   "id": "dac0cf28-6980-4c6a-8b47-7c7fdd9ad0d3",
   "metadata": {},
   "source": [
    "14. Write a Python program to find the common elements between two lists using a for loop. "
   ]
  },
  {
   "cell_type": "code",
   "execution_count": 6,
   "id": "928c6a9a-6dda-42ec-a0a3-14753d9f1dcc",
   "metadata": {},
   "outputs": [
    {
     "name": "stdout",
     "output_type": "stream",
     "text": [
      "[3, 4]\n"
     ]
    }
   ],
   "source": [
    "l1=[1,2,3,4]\n",
    "l2=[3,4,5,6]\n",
    "l=[]\n",
    "for i in l1:\n",
    "    for j in l2:\n",
    "        if i==j:\n",
    "            l.append(i)\n",
    "print(l)            "
   ]
  },
  {
   "cell_type": "code",
   "execution_count": null,
   "id": "86f6a924-5c6d-4a1c-9b83-0a2225345075",
   "metadata": {},
   "outputs": [],
   "source": []
  },
  {
   "cell_type": "markdown",
   "id": "d50bc6b2-51da-49d1-98f5-9b318f23e612",
   "metadata": {},
   "source": [
    "15. Explain how to use a for loop to iterate through the keys and values of a dictionary in Python. "
   ]
  },
  {
   "cell_type": "code",
   "execution_count": 7,
   "id": "328ae317-d4cd-4efd-8aae-14add31ba2c9",
   "metadata": {},
   "outputs": [
    {
     "name": "stdout",
     "output_type": "stream",
     "text": [
      "apple 1\n",
      "banana 2\n",
      "cherry 3\n"
     ]
    }
   ],
   "source": [
    "my_dict = {\"apple\": 1, \"banana\": 2, \"cherry\": 3}\n",
    "\n",
    "for key, value in my_dict.items():\n",
    "    print(key, value)"
   ]
  },
  {
   "cell_type": "code",
   "execution_count": null,
   "id": "fda15431-ed85-4787-ad14-ccc1ec9e9906",
   "metadata": {},
   "outputs": [],
   "source": []
  },
  {
   "cell_type": "markdown",
   "id": "7888f351-1007-4df4-992d-bc55ba0ef76b",
   "metadata": {},
   "source": [
    "16. Write a Python program to find the GCD (Greatest Common Divisor) of two numbers using a for loop. "
   ]
  },
  {
   "cell_type": "code",
   "execution_count": 20,
   "id": "c8bb5a11-953d-4da8-9911-28d924417df1",
   "metadata": {},
   "outputs": [
    {
     "name": "stdout",
     "output_type": "stream",
     "text": [
      "6\n"
     ]
    }
   ],
   "source": [
    "n1=18\n",
    "n2=60\n",
    "gcd=1\n",
    "\n",
    "for i in range(1,(min(n1,n2))+1):\n",
    "    if n1%i==0 and n2%i==0:\n",
    "        gcd=i\n",
    "\n",
    "print(gcd)    "
   ]
  },
  {
   "cell_type": "code",
   "execution_count": null,
   "id": "33d7eb82-991a-493b-a114-c6740e8eb79c",
   "metadata": {},
   "outputs": [],
   "source": []
  },
  {
   "cell_type": "markdown",
   "id": "b2ecf149-aa58-485c-8099-d79f68389e0f",
   "metadata": {},
   "source": [
    "17. Create a Python program that checks if a string is a palindrome using a for loop."
   ]
  },
  {
   "cell_type": "code",
   "execution_count": 28,
   "id": "83256b01-5558-4745-b0a0-b6343087485b",
   "metadata": {},
   "outputs": [],
   "source": [
    "def pal(s):\n",
    "    for i in range(len(s)//2):\n",
    "        if s[i] == s[-1-i]:\n",
    "            return \"palindrome\"\n",
    "    else:\n",
    "        return \"Not palindrome\""
   ]
  },
  {
   "cell_type": "code",
   "execution_count": 32,
   "id": "e8e5528a-5928-41ef-98fe-c96a1eb7cebc",
   "metadata": {},
   "outputs": [
    {
     "data": {
      "text/plain": [
       "'palindrome'"
      ]
     },
     "execution_count": 32,
     "metadata": {},
     "output_type": "execute_result"
    }
   ],
   "source": [
    "pal(\"malayalam\")"
   ]
  },
  {
   "cell_type": "code",
   "execution_count": null,
   "id": "acc831c1-90ed-44c9-88ca-3fbde6b68517",
   "metadata": {},
   "outputs": [],
   "source": []
  },
  {
   "cell_type": "markdown",
   "id": "7f68d969-4f4f-4303-bd06-d3e3b93c3453",
   "metadata": {},
   "source": [
    "18. Write a Python program to remove duplicates from a list using a for loop."
   ]
  },
  {
   "cell_type": "code",
   "execution_count": 8,
   "id": "87622d52-f0f9-4074-9f77-91c43b07fe49",
   "metadata": {},
   "outputs": [
    {
     "name": "stdout",
     "output_type": "stream",
     "text": [
      "[1, 2, 3]\n"
     ]
    }
   ],
   "source": [
    "l=[1,2,3,4,5,6,3,7,8,9,1,2]\n",
    "duplicate=[]\n",
    "for i in range(len(l)):\n",
    "    for j in range(i+1,len(l)):\n",
    "        if l[i] == l[j]:\n",
    "            duplicate.append(l[i])\n",
    "print(duplicate)            "
   ]
  },
  {
   "cell_type": "code",
   "execution_count": null,
   "id": "6dfa914b-d266-4a43-af9d-c72fa323ea58",
   "metadata": {},
   "outputs": [],
   "source": []
  },
  {
   "cell_type": "markdown",
   "id": "1c5d4399-d4e3-487e-ac90-3de487997991",
   "metadata": {},
   "source": [
    "19. Create a Python program that counts the number of words in a sentence using a for loop. "
   ]
  },
  {
   "cell_type": "code",
   "execution_count": 21,
   "id": "d03d7bb0-cb1f-4401-b55e-1fac38276156",
   "metadata": {},
   "outputs": [
    {
     "name": "stdin",
     "output_type": "stream",
     "text": [
      "Enter the sentence:  India win this world cup\n"
     ]
    },
    {
     "name": "stdout",
     "output_type": "stream",
     "text": [
      "This sentence contain 5 words\n"
     ]
    }
   ],
   "source": [
    "sen=input(\"Enter the sentence: \").split()\n",
    "s=0\n",
    "for i in range(len(sen)): \n",
    "    s+=1\n",
    "print(f\"This sentence contain {s} words\")    "
   ]
  },
  {
   "cell_type": "code",
   "execution_count": null,
   "id": "7dd43a4a-59f8-44f8-988e-38d69dcd6192",
   "metadata": {},
   "outputs": [],
   "source": []
  },
  {
   "cell_type": "markdown",
   "id": "ee05ad82-d108-4272-82c0-c2196c3565ce",
   "metadata": {},
   "source": [
    "20. Write a Python program to find the sum of all odd numbers from 1 to 50 using a for loop."
   ]
  },
  {
   "cell_type": "code",
   "execution_count": 25,
   "id": "e3fe9ab9-715a-43c8-8430-65ce1468e3e5",
   "metadata": {},
   "outputs": [
    {
     "name": "stdout",
     "output_type": "stream",
     "text": [
      "625\n"
     ]
    }
   ],
   "source": [
    "l=[]\n",
    "for i in range(1,51):\n",
    "    if i%2!=0:\n",
    "        l.append(i)\n",
    "print(sum(l))        "
   ]
  },
  {
   "cell_type": "code",
   "execution_count": null,
   "id": "40510961-b87f-4797-bb6c-dfe649859afe",
   "metadata": {},
   "outputs": [],
   "source": []
  },
  {
   "cell_type": "markdown",
   "id": "41bfd194-ef89-4678-b45b-d1d914947a7c",
   "metadata": {},
   "source": [
    "21. Write a Python program that checks if a given year is a leap year using a for loop. "
   ]
  },
  {
   "cell_type": "code",
   "execution_count": 31,
   "id": "4d1f771a-01f7-4bf4-87b9-21a6f4849abe",
   "metadata": {},
   "outputs": [
    {
     "name": "stdin",
     "output_type": "stream",
     "text": [
      "Enter the year:  1900\n"
     ]
    },
    {
     "name": "stdout",
     "output_type": "stream",
     "text": [
      "1900 is not leap year\n"
     ]
    }
   ],
   "source": [
    "year=int(input(\"Enter the year: \"))\n",
    "if (year%4==0 and year%100 != 0) or (year%400==0):\n",
    "    print(f\"{year} is leap year\")\n",
    "else:   \n",
    "    print(f\"{year} is not leap year\")"
   ]
  },
  {
   "cell_type": "code",
   "execution_count": null,
   "id": "20b95706-297a-4aad-8ef4-673244a80812",
   "metadata": {},
   "outputs": [],
   "source": []
  },
  {
   "cell_type": "markdown",
   "id": "5b6e4961-4d72-4397-94a4-f1a51acf15b4",
   "metadata": {},
   "source": [
    "22. Create a Python program that calculates the square root of a number using a for loop."
   ]
  },
  {
   "cell_type": "code",
   "execution_count": 5,
   "id": "708d828e-47c5-410e-afc6-5dffda979268",
   "metadata": {},
   "outputs": [
    {
     "name": "stdin",
     "output_type": "stream",
     "text": [
      "Enter a number:  49\n"
     ]
    },
    {
     "name": "stdout",
     "output_type": "stream",
     "text": [
      "The square root of 49.0 is 7.0\n"
     ]
    }
   ],
   "source": [
    "# Python program to calculate the square root of a number using a for loop\n",
    "\n",
    "num = float(input(\"Enter a number: \"))\n",
    "sqrt = 1\n",
    "\n",
    "for i in range(10):\n",
    "    sqrt = (sqrt + num / sqrt) / 2\n",
    "\n",
    "print(\"The square root of\", num, \"is\", sqrt)\n"
   ]
  },
  {
   "cell_type": "code",
   "execution_count": null,
   "id": "71ab3718-0ba9-4816-97d8-052936570d56",
   "metadata": {},
   "outputs": [],
   "source": []
  },
  {
   "cell_type": "markdown",
   "id": "bd920316-d2c5-44f0-b8d8-649fbb1d9d33",
   "metadata": {},
   "source": [
    "23. Write a Python program to find the LCM (Least Common Multiple) of two numbers using a for loop. "
   ]
  },
  {
   "cell_type": "code",
   "execution_count": 4,
   "id": "5144deda-cfb1-4d5b-9e07-6b4e2068fe74",
   "metadata": {},
   "outputs": [
    {
     "name": "stdin",
     "output_type": "stream",
     "text": [
      "Enter the number:  18\n",
      "Enter the number:  4\n"
     ]
    },
    {
     "name": "stdout",
     "output_type": "stream",
     "text": [
      "36\n"
     ]
    }
   ],
   "source": [
    "n1=int(input(\"Enter the number: \"))\n",
    "n2=int(input(\"Enter the number: \"))\n",
    "if n1>n2:\n",
    "    greater=n1\n",
    "else:\n",
    "    greater=n2\n",
    "while True:\n",
    "    if greater%n1==0 and greater%n2==0:\n",
    "        lcm=greater\n",
    "        break\n",
    "    greater+=1    \n",
    "print(lcm)"
   ]
  },
  {
   "cell_type": "code",
   "execution_count": null,
   "id": "629f9a72-3877-4995-94a0-d1c9116c4f27",
   "metadata": {},
   "outputs": [],
   "source": []
  },
  {
   "cell_type": "markdown",
   "id": "5c194e89-905a-4667-b508-56b6d8439c10",
   "metadata": {},
   "source": [
    "## If else : "
   ]
  },
  {
   "cell_type": "code",
   "execution_count": null,
   "id": "92277b28-8dc2-499c-8761-6ffdc6782f89",
   "metadata": {},
   "outputs": [],
   "source": []
  },
  {
   "cell_type": "markdown",
   "id": "bfbada09-ecb2-4643-8c69-4a5b1011e5ad",
   "metadata": {},
   "source": [
    "1. Write a Python program to check if a number is positive, negative, or zero using an if-else statement. "
   ]
  },
  {
   "cell_type": "code",
   "execution_count": 6,
   "id": "edff8233-731a-41e8-9c41-0db82de0a086",
   "metadata": {},
   "outputs": [],
   "source": [
    "def check(n):\n",
    "    if n>0:\n",
    "        return \"Positive number\"\n",
    "    elif n<0:\n",
    "        return \"Negative number\"\n",
    "    else:\n",
    "        return \"Zero\""
   ]
  },
  {
   "cell_type": "code",
   "execution_count": 10,
   "id": "63771c49-408e-42fe-9371-fc21073fb033",
   "metadata": {},
   "outputs": [
    {
     "data": {
      "text/plain": [
       "'Negative number'"
      ]
     },
     "execution_count": 10,
     "metadata": {},
     "output_type": "execute_result"
    }
   ],
   "source": [
    "check(-26)"
   ]
  },
  {
   "cell_type": "code",
   "execution_count": null,
   "id": "f22bfd15-14c5-40f4-991b-fb1bacde3a0f",
   "metadata": {},
   "outputs": [],
   "source": []
  },
  {
   "cell_type": "markdown",
   "id": "8a4f4572-9519-453a-8904-a55d19bfb5d6",
   "metadata": {},
   "source": [
    "2. Create a Python program that checks if a given number is even or odd using an if-else statement. "
   ]
  },
  {
   "cell_type": "code",
   "execution_count": 12,
   "id": "c5d137cc-dc9a-4abe-a2df-c45d54b4b958",
   "metadata": {},
   "outputs": [
    {
     "name": "stdin",
     "output_type": "stream",
     "text": [
      "Enter the number:  26\n"
     ]
    },
    {
     "data": {
      "text/plain": [
       "'Even number'"
      ]
     },
     "execution_count": 12,
     "metadata": {},
     "output_type": "execute_result"
    }
   ],
   "source": [
    "def check_num(n):\n",
    "    if n%2==0:\n",
    "        return \"Even number\"\n",
    "    else:\n",
    "        return \"Odd number\"\n",
    "\n",
    "num=int(input(\"Enter the number: \"))\n",
    "check_num(num)"
   ]
  },
  {
   "cell_type": "code",
   "execution_count": null,
   "id": "67f78307-ce5d-42c5-bbc0-0aa0a0a79ceb",
   "metadata": {},
   "outputs": [],
   "source": []
  },
  {
   "cell_type": "markdown",
   "id": "972b47cc-c20c-49ee-ae32-0355c91f38c0",
   "metadata": {},
   "source": [
    "3. How can you use nested if-else statements in Python, and provide an example? "
   ]
  },
  {
   "cell_type": "markdown",
   "id": "fe54154e-2f03-4dfe-a3bc-621aab9069b9",
   "metadata": {},
   "source": [
    "To use nested if-else statements in Python, you can add an if-else statement inside another if-else statement. This is called nesting in computer programming. Any number of these statements can be nested inside one another. Indentation is the only way to figure out the level of nesting. \n",
    "Example: \n"
   ]
  },
  {
   "cell_type": "code",
   "execution_count": 6,
   "id": "c19b93e1-7772-4ee9-9550-f3177f2e2b1e",
   "metadata": {},
   "outputs": [
    {
     "name": "stdout",
     "output_type": "stream",
     "text": [
      "x is greater than y\n"
     ]
    }
   ],
   "source": [
    "x = 30\n",
    "y = 10\n",
    "\n",
    "if x >= y:\n",
    "    if x == y:\n",
    "        print(\"x is equal to y\")\n",
    "    else:\n",
    "        print(\"x is greater than y\")\n",
    "else:\n",
    "    print(\"x is less than y\")\n"
   ]
  },
  {
   "cell_type": "code",
   "execution_count": null,
   "id": "f78152ee-5245-456c-8779-6db51ba6a993",
   "metadata": {},
   "outputs": [],
   "source": []
  },
  {
   "cell_type": "markdown",
   "id": "1c6ca516-8284-4176-86b8-55679ac0a389",
   "metadata": {},
   "source": [
    "4. Write a Python program to determine the largest of three numbers using if-else. "
   ]
  },
  {
   "cell_type": "code",
   "execution_count": 13,
   "id": "cd34ea60-d998-4a11-8725-a1f7967d8738",
   "metadata": {},
   "outputs": [
    {
     "name": "stdin",
     "output_type": "stream",
     "text": [
      "Enter the first number:  25\n",
      "Enter the second number:  544\n",
      "Enter the third number:  51\n"
     ]
    },
    {
     "name": "stdout",
     "output_type": "stream",
     "text": [
      "The second number is greater than third\n"
     ]
    }
   ],
   "source": [
    "n1=int(input(\"Enter the first number: \"))\n",
    "n2=int(input(\"Enter the second number: \"))\n",
    "n3=int(input(\"Enter the third number: \"))\n",
    "if n1>n2:\n",
    "    if n1>n3:\n",
    "        print(\"The first number is greater than all\")\n",
    "    else:\n",
    "        print(\"The third number is bigger than first\")\n",
    "else:\n",
    "    if n2>n3:\n",
    "        print(\"The second number is greater than third\")\n",
    "    else:\n",
    "        print(\"The third number is greater than second\")"
   ]
  },
  {
   "cell_type": "code",
   "execution_count": null,
   "id": "aac2b886-015b-48d0-a0d8-b37569600c7a",
   "metadata": {},
   "outputs": [],
   "source": []
  },
  {
   "cell_type": "markdown",
   "id": "24c08241-662a-4d00-80cb-a17a1b205e9e",
   "metadata": {},
   "source": [
    "5. Write a Python program that calculates the absolute value of a number using if-else. "
   ]
  },
  {
   "cell_type": "code",
   "execution_count": 15,
   "id": "8c241113-78e6-4f59-9849-47d440972486",
   "metadata": {},
   "outputs": [
    {
     "name": "stdin",
     "output_type": "stream",
     "text": [
      "Enter the number:  -5\n"
     ]
    },
    {
     "data": {
      "text/plain": [
       "5"
      ]
     },
     "execution_count": 15,
     "metadata": {},
     "output_type": "execute_result"
    }
   ],
   "source": [
    "def abs(n):\n",
    "    if n>0:\n",
    "        return n\n",
    "    else:\n",
    "        return -n\n",
    "\n",
    "n=int(input(\"Enter the number: \"))\n",
    "abs(n)"
   ]
  },
  {
   "cell_type": "code",
   "execution_count": null,
   "id": "aa3c3947-953d-447c-9b01-8745090ceede",
   "metadata": {},
   "outputs": [],
   "source": []
  },
  {
   "cell_type": "markdown",
   "id": "e6734d61-2389-4bf4-a0f5-876f5e8167f6",
   "metadata": {},
   "source": [
    "6. Create a Python program that checks if a given character is a vowel or consonant using if-else."
   ]
  },
  {
   "cell_type": "code",
   "execution_count": 17,
   "id": "05dc237e-af6b-4bdf-87f5-dd91f9e8396e",
   "metadata": {},
   "outputs": [
    {
     "name": "stdin",
     "output_type": "stream",
     "text": [
      "Enter the character:  A\n"
     ]
    },
    {
     "data": {
      "text/plain": [
       "'This character is vowel'"
      ]
     },
     "execution_count": 17,
     "metadata": {},
     "output_type": "execute_result"
    }
   ],
   "source": [
    "def vowel(word):\n",
    "    vowels='aeiouAEIOU'\n",
    "    if word in vowels:\n",
    "        return \"This character is vowel\"\n",
    "    else:\n",
    "        return \"This character is consonant\"\n",
    "\n",
    "word=input(\"Enter the character: \")\n",
    "vowel(word)"
   ]
  },
  {
   "cell_type": "code",
   "execution_count": null,
   "id": "b54183e3-1216-4f9d-bdac-3a3a1d4addb0",
   "metadata": {},
   "outputs": [],
   "source": []
  },
  {
   "cell_type": "markdown",
   "id": "ed1e9635-b742-4775-a16e-0446cd405d3c",
   "metadata": {},
   "source": [
    "7. Write a Python program to determine if a user is eligible to vote based on their age using if-else."
   ]
  },
  {
   "cell_type": "code",
   "execution_count": 20,
   "id": "fb77ac55-b205-40e8-941f-ab4545e41089",
   "metadata": {},
   "outputs": [
    {
     "name": "stdin",
     "output_type": "stream",
     "text": [
      "Enter your age:  18\n"
     ]
    },
    {
     "name": "stdout",
     "output_type": "stream",
     "text": [
      "You are eligible to vote\n"
     ]
    }
   ],
   "source": [
    "age=int(input(\"Enter your age: \"))\n",
    "if age>=18:\n",
    "    print(\"You are eligible to vote\")\n",
    "else:\n",
    "    print(\"You are not eligible to vote\")"
   ]
  },
  {
   "cell_type": "code",
   "execution_count": null,
   "id": "6c17ec58-1cca-4808-9679-5fc1561224be",
   "metadata": {},
   "outputs": [],
   "source": []
  },
  {
   "cell_type": "markdown",
   "id": "742a79a7-442e-4ee9-ab53-5c022cc41b79",
   "metadata": {},
   "source": [
    "8. Create a Python program that calculates the discount amount based on the purchase amount using if-else. "
   ]
  },
  {
   "cell_type": "code",
   "execution_count": 23,
   "id": "8cef486b-0d63-47e5-b6eb-ad27b5b9c85d",
   "metadata": {},
   "outputs": [
    {
     "name": "stdin",
     "output_type": "stream",
     "text": [
      "Enter the amount:  5001\n"
     ]
    },
    {
     "name": "stdout",
     "output_type": "stream",
     "text": [
      "!!You got 10% discount!!\n",
      "you need to pay: 4500.0\n"
     ]
    }
   ],
   "source": [
    "amt=int(input(\"Enter the amount: \"))\n",
    "if amt>=5000:\n",
    "    print(\"!!You got 10% discount!!\")\n",
    "    amt=5000*0.9\n",
    "    print(f\"you need to pay: {amt}\")\n",
    "else:\n",
    "    print(\"You need to pay:\",amt)"
   ]
  },
  {
   "cell_type": "code",
   "execution_count": null,
   "id": "0507a6b1-a860-4531-ae8d-df34a42ac16d",
   "metadata": {},
   "outputs": [],
   "source": []
  },
  {
   "cell_type": "markdown",
   "id": "01156641-bd9e-4455-b4af-2781d46fc3fc",
   "metadata": {},
   "source": [
    "9. Write a Python program to check if a number is within a specified range using if-else. "
   ]
  },
  {
   "cell_type": "code",
   "execution_count": 28,
   "id": "d7ae0345-c163-4c57-b201-663c5754f6bf",
   "metadata": {},
   "outputs": [
    {
     "name": "stdout",
     "output_type": "stream",
     "text": [
      "List: range(1, 101)\n"
     ]
    },
    {
     "name": "stdin",
     "output_type": "stream",
     "text": [
      "Enter the number:  101\n"
     ]
    },
    {
     "name": "stdout",
     "output_type": "stream",
     "text": [
      "This number doesn't exist in this range\n"
     ]
    }
   ],
   "source": [
    "l=range(1,101)\n",
    "print(f\"List: {l}\")\n",
    "n=int(input(\"Enter the number: \"))\n",
    "if n in l:\n",
    "    print(\"This number exist in this range\")\n",
    "else:\n",
    "    print(\"This number doesn't exist in this range\")"
   ]
  },
  {
   "cell_type": "code",
   "execution_count": null,
   "id": "813f5507-ee48-473f-9c96-9d55a77719bb",
   "metadata": {},
   "outputs": [],
   "source": []
  },
  {
   "cell_type": "markdown",
   "id": "322fb2bd-9515-453f-9bcf-bf0b8fa6b3f1",
   "metadata": {},
   "source": [
    "10. Create a Python program that determines the grade of a student based on their score using if else. "
   ]
  },
  {
   "cell_type": "code",
   "execution_count": 38,
   "id": "62656c8f-ad16-445b-b1f9-b6defb876969",
   "metadata": {},
   "outputs": [
    {
     "name": "stdin",
     "output_type": "stream",
     "text": [
      "Enter the score:  59\n"
     ]
    },
    {
     "name": "stdout",
     "output_type": "stream",
     "text": [
      "Grade: F\n"
     ]
    }
   ],
   "source": [
    "score = float(input(\"Enter the score: \"))\n",
    "\n",
    "if score >= 90:\n",
    "    print(\"Grade: A\")\n",
    "elif score >= 80:\n",
    "    print(\"Grade: B\")\n",
    "elif score >= 70:\n",
    "    print(\"Grade: C\")\n",
    "elif score >= 60:\n",
    "    print(\"Grade: D\")\n",
    "else:\n",
    "    print(\"Grade: F\")"
   ]
  },
  {
   "cell_type": "code",
   "execution_count": null,
   "id": "0beee2ce-44f2-4c82-a607-c2a0b995c751",
   "metadata": {},
   "outputs": [],
   "source": []
  },
  {
   "cell_type": "markdown",
   "id": "e2c26d31-2cf3-4123-b354-96b644ee28d4",
   "metadata": {},
   "source": [
    "11. Write a Python program to check if a string is empty or not using if-else."
   ]
  },
  {
   "cell_type": "code",
   "execution_count": 42,
   "id": "108c1e45-f82d-4cf3-9a75-eeed32a46daf",
   "metadata": {},
   "outputs": [
    {
     "name": "stdin",
     "output_type": "stream",
     "text": [
      "Enter the string: \n"
     ]
    },
    {
     "name": "stdout",
     "output_type": "stream",
     "text": [
      "Empty\n"
     ]
    }
   ],
   "source": [
    "string=input(\"Enter the string:\")\n",
    "if string:\n",
    "    print(\"Not Empty\")\n",
    "else:\n",
    "    print(\"Empty\")"
   ]
  },
  {
   "cell_type": "code",
   "execution_count": null,
   "id": "afb51314-31e3-4375-864a-9400a5fd7a7c",
   "metadata": {},
   "outputs": [],
   "source": []
  },
  {
   "cell_type": "markdown",
   "id": "7472996c-f59d-4ddc-800e-6382a00d58ae",
   "metadata": {},
   "source": [
    "12. Create a Python program that identifies the type of a triangle (e.g., equilateral, isosceles, or scalene) based on input values using if-else."
   ]
  },
  {
   "cell_type": "code",
   "execution_count": 1,
   "id": "94da99f1-faf4-49ac-a0a3-e8fcfb0842ad",
   "metadata": {},
   "outputs": [
    {
     "name": "stdin",
     "output_type": "stream",
     "text": [
      "Enter the first side of triangle:  3\n",
      "Enter the second side of triangle:  6\n",
      "Enter the third side of triangle:  9\n"
     ]
    },
    {
     "name": "stdout",
     "output_type": "stream",
     "text": [
      "Scalene triangle\n"
     ]
    }
   ],
   "source": [
    "a=int(input(\"Enter the first side of triangle: \"))\n",
    "b=int(input(\"Enter the second side of triangle: \"))\n",
    "c=int(input(\"Enter the third side of triangle: \"))\n",
    "if a==b==c:\n",
    "    print(\"Equilateral triangle\")\n",
    "elif a==b or b==c or c==a:\n",
    "    print(\"Isosceles triangle\")    \n",
    "else:\n",
    "    print(\"Scalene triangle\")"
   ]
  },
  {
   "cell_type": "code",
   "execution_count": null,
   "id": "02fbc61a-0b70-4962-92b8-00cca3697e67",
   "metadata": {},
   "outputs": [],
   "source": []
  },
  {
   "cell_type": "markdown",
   "id": "ef42dc25-b040-4317-acc5-38228fd3d224",
   "metadata": {},
   "source": [
    "13.\tWrite a Python program to determine the day of the week based on a user-provided number using if-else."
   ]
  },
  {
   "cell_type": "code",
   "execution_count": 1,
   "id": "83210c7c-1ccb-4103-97da-56b6f1a775c6",
   "metadata": {},
   "outputs": [
    {
     "name": "stdin",
     "output_type": "stream",
     "text": [
      "Enter day code:  5\n"
     ]
    },
    {
     "name": "stdout",
     "output_type": "stream",
     "text": [
      "Friday\n"
     ]
    }
   ],
   "source": [
    "day=int(input(\"Enter day code: \"))\n",
    "if day==1:\n",
    "    print(\"Monday\")\n",
    "if day==2:\n",
    "    print(\"Tuesday\")\n",
    "if day==3:\n",
    "    print(\"Wednesday\")\n",
    "if day==4:\n",
    "    print(\"Thursday\")\n",
    "if day==5:\n",
    "    print(\"Friday\")\n",
    "if day==6:\n",
    "    print(\"Saturday\")\n",
    "if day==7:\n",
    "    print(\"Sunday\")"
   ]
  },
  {
   "cell_type": "code",
   "execution_count": null,
   "id": "d8f80faa-b8f4-4cac-8b51-91c871404051",
   "metadata": {},
   "outputs": [],
   "source": []
  },
  {
   "cell_type": "markdown",
   "id": "272e1909-af54-4e43-be12-15bf6a15976b",
   "metadata": {},
   "source": [
    "14.\tCreate a Python program that checks if a given year is a leap year using both if-else and a function."
   ]
  },
  {
   "cell_type": "code",
   "execution_count": 10,
   "id": "1ada737c-7c27-4d85-a47f-01984e33b14c",
   "metadata": {},
   "outputs": [
    {
     "name": "stdin",
     "output_type": "stream",
     "text": [
      "Enter the year:  1900\n"
     ]
    },
    {
     "data": {
      "text/plain": [
       "'Not Leap Year'"
      ]
     },
     "execution_count": 10,
     "metadata": {},
     "output_type": "execute_result"
    }
   ],
   "source": [
    "def leap(year):\n",
    "    if (year%4==0 and year%100!=0) or (year%400==0):\n",
    "        return \"Leap Year\"\n",
    "    else:\n",
    "        return \"Not Leap Year\"\n",
    "\n",
    "year=int(input(\"Enter the year: \"))\n",
    "leap(year)"
   ]
  },
  {
   "cell_type": "code",
   "execution_count": null,
   "id": "cd53cc45-498c-4dae-9d4f-a3a571e91d52",
   "metadata": {},
   "outputs": [],
   "source": []
  },
  {
   "cell_type": "markdown",
   "id": "727a8992-07f2-4f8c-8b47-c72fa065b3de",
   "metadata": {},
   "source": [
    "15.\tHow do you use the \"assert\" statement in Python to add debugging checks within if-else blocks?"
   ]
  },
  {
   "cell_type": "markdown",
   "id": "3a4c2dc2-d519-4d44-8991-136145ec7b1a",
   "metadata": {},
   "source": [
    "To add debugging checks within if-else blocks in Python, you can use the assert statement. The assert statement is used to check whether a given condition is true or not. If the condition is false, then the program will raise an AssertionError exception and stop executing."
   ]
  },
  {
   "cell_type": "code",
   "execution_count": 1,
   "id": "dcd85b3a-062e-4d3b-9eb7-3d42bb8d8d0d",
   "metadata": {},
   "outputs": [
    {
     "name": "stdout",
     "output_type": "stream",
     "text": [
      "x is less than or equal to 10\n"
     ]
    }
   ],
   "source": [
    "x = 5\n",
    "if x > 10:\n",
    "    assert False, \"x should be less than or equal to 10\"\n",
    "else:\n",
    "    print(\"x is less than or equal to 10\")\n"
   ]
  },
  {
   "cell_type": "markdown",
   "id": "1025bd74-c8d0-44cc-a54e-9e9f5c6a11aa",
   "metadata": {},
   "source": [
    "OR"
   ]
  },
  {
   "cell_type": "code",
   "execution_count": null,
   "id": "92b9f3b8-3aa6-4063-84a0-cba1c11f4620",
   "metadata": {},
   "outputs": [],
   "source": []
  },
  {
   "cell_type": "markdown",
   "id": "7417bd39-f62f-4f57-b3ae-af592c745080",
   "metadata": {},
   "source": [
    "16.\tCreate a Python program that determines the eligibility of a person for a senior citizen discount based on age using if-else."
   ]
  },
  {
   "cell_type": "code",
   "execution_count": 13,
   "id": "b0e554bf-8008-4530-81b6-7cd6a3040cbf",
   "metadata": {},
   "outputs": [
    {
     "name": "stdout",
     "output_type": "stream",
     "text": [
      "Railway Ticket Counter\n",
      "\n"
     ]
    },
    {
     "name": "stdin",
     "output_type": "stream",
     "text": [
      "Enter your ticket amount:  8000\n",
      "Enter our age:  60\n"
     ]
    },
    {
     "name": "stdout",
     "output_type": "stream",
     "text": [
      "Be a Senior citizen, So you got 50% discount on your journey\n",
      "Your payable amount is 4000.0 rupee\n"
     ]
    }
   ],
   "source": [
    "print(\"Railway Ticket Counter\")\n",
    "print()\n",
    "amt=int(input(\"Enter your ticket amount: \"))\n",
    "age=int(input(\"Enter our age: \"))\n",
    "if age>=60:\n",
    "    print(\"Be a Senior citizen, So you got 50% discount on your journey\")\n",
    "    amt=amt*0.5\n",
    "    print(f\"Your payable amount is {amt} rupee\")\n",
    "else:\n",
    "    print(\"Your payable amount is\",amt,\"rupee\")"
   ]
  },
  {
   "cell_type": "code",
   "execution_count": null,
   "id": "10eb61d4-2b15-429f-9590-2e45a02f212b",
   "metadata": {},
   "outputs": [],
   "source": []
  },
  {
   "cell_type": "markdown",
   "id": "90adf27f-e07d-478f-b3f5-eb4f9ebf9177",
   "metadata": {},
   "source": [
    "17.\tWrite a Python program to categorize a given character as uppercase, lowercase, or neither using if-else."
   ]
  },
  {
   "cell_type": "code",
   "execution_count": 14,
   "id": "81fab961-9182-4c44-af47-eef27533c524",
   "metadata": {},
   "outputs": [],
   "source": [
    "import re\n",
    "def check(c):\n",
    "    if re.search('[a-z]',c):\n",
    "        return \"Lowercase character\"\n",
    "    elif re.search('[A-Z]',c):\n",
    "        return \"Uppercase character\"\n",
    "    else:\n",
    "        return \"Neither\""
   ]
  },
  {
   "cell_type": "code",
   "execution_count": 22,
   "id": "6fc6101e-8ea0-4cef-9201-c36273b43cfa",
   "metadata": {},
   "outputs": [
    {
     "data": {
      "text/plain": [
       "'Neither'"
      ]
     },
     "execution_count": 22,
     "metadata": {},
     "output_type": "execute_result"
    }
   ],
   "source": [
    "check(\"52\")"
   ]
  },
  {
   "cell_type": "code",
   "execution_count": null,
   "id": "d6de9c26-5b4f-4e15-a784-365ac1eb37e4",
   "metadata": {},
   "outputs": [],
   "source": []
  },
  {
   "cell_type": "markdown",
   "id": "24f561c6-c813-421b-bc0d-2967889f4a26",
   "metadata": {},
   "source": [
    "18.\tWrite a Python program to determine the roots of a quadratic equation using if-else."
   ]
  },
  {
   "cell_type": "code",
   "execution_count": 2,
   "id": "48b90dcd-1880-4add-a999-447d5b619bd3",
   "metadata": {},
   "outputs": [
    {
     "name": "stdin",
     "output_type": "stream",
     "text": [
      "Enter the value of a:  5\n",
      "Enter the value of b:  1\n",
      "Enter the value of c:  6\n"
     ]
    },
    {
     "name": "stdout",
     "output_type": "stream",
     "text": [
      "The solution are (-0.1-1.0908712114635715j) and (-0.1+1.0908712114635715j)\n"
     ]
    }
   ],
   "source": [
    "import cmath\n",
    "\n",
    "a = int(input(\"Enter the value of a: \"))\n",
    "b = int(input(\"Enter the value of b: \"))\n",
    "c = int(input(\"Enter the value of c: \"))\n",
    "\n",
    "# calculate the discriminant\n",
    "d = (b**2) - (4*a*c)\n",
    "\n",
    "# find two solutions\n",
    "sol1 = (-b-cmath.sqrt(d))/(2*a)\n",
    "sol2 = (-b+cmath.sqrt(d))/(2*a)\n",
    "\n",
    "print('The solution are {0} and {1}'.format(sol1,sol2))"
   ]
  },
  {
   "cell_type": "code",
   "execution_count": null,
   "id": "b2bda7be-9134-477c-898c-771711ec5a91",
   "metadata": {},
   "outputs": [],
   "source": []
  },
  {
   "cell_type": "markdown",
   "id": "52844b39-f102-447b-8c89-9b2ef4bb0e20",
   "metadata": {},
   "source": [
    "19.\tCreate a Python program that checks if a given year is a century year or not using if-else."
   ]
  },
  {
   "cell_type": "code",
   "execution_count": 7,
   "id": "fd1e7b55-ebe7-41e0-950b-0f7bdc46be33",
   "metadata": {},
   "outputs": [
    {
     "name": "stdin",
     "output_type": "stream",
     "text": [
      "Enter the year: 1900\n"
     ]
    },
    {
     "name": "stdout",
     "output_type": "stream",
     "text": [
      "This year 1900 is century year\n"
     ]
    }
   ],
   "source": [
    "year=int(input(\"Enter the year:\"))\n",
    "if year%100==0:\n",
    "    print(f\"This year {year} is century year\")\n",
    "else :\n",
    "    print(f\"This year is not century year\")"
   ]
  },
  {
   "cell_type": "code",
   "execution_count": null,
   "id": "e96691b6-42d2-4ca8-9d5d-857158ef9542",
   "metadata": {},
   "outputs": [],
   "source": []
  },
  {
   "cell_type": "markdown",
   "id": "f4e0558d-c20e-4e67-81cd-5cf538d3a093",
   "metadata": {},
   "source": [
    "20.\tWrite a Python program to determine if a given number is a perfect square using if-else."
   ]
  },
  {
   "cell_type": "code",
   "execution_count": 15,
   "id": "f91d6ba3-9de5-419c-807c-b1d8fd9b079b",
   "metadata": {},
   "outputs": [
    {
     "name": "stdin",
     "output_type": "stream",
     "text": [
      "Enter the number: 17\n"
     ]
    },
    {
     "name": "stdout",
     "output_type": "stream",
     "text": [
      "This value is not a perfect square\n"
     ]
    }
   ],
   "source": [
    "num=int(input(\"Enter the number:\"))\n",
    "if num>=0:\n",
    "    root=num**0.5\n",
    "    if int(root + 0.5)**2 == num:\n",
    "        print(\"This value is perfect square\")\n",
    "    else:\n",
    "        print(\"This value is not a perfect square\")\n",
    "else:\n",
    "    print(\"Number should be greater than zero\")"
   ]
  },
  {
   "cell_type": "code",
   "execution_count": null,
   "id": "11f9abe7-c21c-4ca1-833f-1c30b7210dfc",
   "metadata": {},
   "outputs": [],
   "source": []
  },
  {
   "cell_type": "markdown",
   "id": "a246fd3a-c5a6-49a2-b2f3-ebbd2e35ccd1",
   "metadata": {},
   "source": [
    "21.\tExplain the purpose of the \"continue\" and \"break\" statements within if-else loops."
   ]
  },
  {
   "cell_type": "markdown",
   "id": "d23636dc-13f5-4d8d-b433-11bd5b69e8cd",
   "metadata": {},
   "source": [
    "In Python, the break statement is used to terminate a loop immediately when it is encountered. The continue statement, on the other hand, is used to skip the current iteration of the loop and move on to the next iteration .\n",
    "\n",
    "The break statement is often used with decision-making statements such as if, else, and elif. When the break statement is executed, the control of the program jumps out of the loop and continues with the next statement after the loop .\n",
    "\n",
    "The continue statement is also used with decision-making statements. When the continue statement is executed, the control of the program jumps to the next iteration of the loop, skipping the remaining statements in the current iteration ."
   ]
  },
  {
   "cell_type": "code",
   "execution_count": null,
   "id": "dcfc995d-938c-4f17-8d1b-495a066c3060",
   "metadata": {},
   "outputs": [],
   "source": []
  },
  {
   "cell_type": "markdown",
   "id": "cdb798f2-215e-4cfa-a07e-55c12f1fd853",
   "metadata": {},
   "source": [
    "22.\tCreate a Python program that calculates the BMI (Body Mass Index) of a person based on their weight and height using if-else."
   ]
  },
  {
   "cell_type": "code",
   "execution_count": 1,
   "id": "c1d78141-0062-4fe0-b739-7270567f2372",
   "metadata": {},
   "outputs": [
    {
     "name": "stdin",
     "output_type": "stream",
     "text": [
      "Enter the weight in kg:  60\n",
      "Enter the height in centimetre:  160\n"
     ]
    },
    {
     "name": "stdout",
     "output_type": "stream",
     "text": [
      "The person is normal\n"
     ]
    }
   ],
   "source": [
    "weight=int(input(\"Enter the weight in kg: \"))\n",
    "height=float(input(\"Enter the height in centimetre: \"))\n",
    "x = (weight/height/height)*10000\n",
    "# here x is bmi(body mass index)\n",
    "if x <= 18.4:\n",
    "    print(\"The person is Underweight\")\n",
    "elif x> 18.5 and x< 24.9:\n",
    "    print(\"The person is normal\")\n",
    "elif x > 25.0 and x < 40.0:\n",
    "    print(\"The person is Overweight\")\n",
    "elif x>=40:\n",
    "    print(\"The person is Obese\")\n",
    "else:\n",
    "    print(\"Invalid entry\")"
   ]
  },
  {
   "cell_type": "code",
   "execution_count": null,
   "id": "e20202f6-1aa4-46a0-842b-71b4d431a903",
   "metadata": {},
   "outputs": [],
   "source": []
  },
  {
   "cell_type": "markdown",
   "id": "e6a4c38d-9d6e-4413-beb8-db8c45b801b2",
   "metadata": {},
   "source": [
    "23.\tHow can you use the \"filter()\" function with if-else statements to filter elements from a list?"
   ]
  },
  {
   "cell_type": "markdown",
   "id": "dd20933a-a53c-4623-9cdc-e930cfcd6148",
   "metadata": {},
   "source": [
    "The filter() function in Python is used to filter out elements from a list based on a certain condition. The condition is specified using a lambda function that takes an element of the list as input and returns either True or False depending on whether the element should be included in the filtered list or not"
   ]
  },
  {
   "cell_type": "code",
   "execution_count": 2,
   "id": "2f3b0868-c2d7-47b7-b3cb-affaf864a351",
   "metadata": {},
   "outputs": [
    {
     "name": "stdout",
     "output_type": "stream",
     "text": [
      "[6, 8, 10]\n"
     ]
    }
   ],
   "source": [
    "my_list = [1, 2, 3, 4, 5, 6, 7, 8, 9, 10]\n",
    "filtered_list = list(filter(lambda x: x > 5 if x % 2 == 0 else False, my_list))\n",
    "print(filtered_list)"
   ]
  },
  {
   "cell_type": "code",
   "execution_count": null,
   "id": "ad556dbf-240d-46c0-8bf3-9b5af4edcb6f",
   "metadata": {},
   "outputs": [],
   "source": []
  },
  {
   "cell_type": "markdown",
   "id": "e920f772-3d7a-4579-aaf0-0a84009429a2",
   "metadata": {},
   "source": [
    "24.\tWrite a Python program to determine if a given number is prime or not using if-else."
   ]
  },
  {
   "cell_type": "code",
   "execution_count": 3,
   "id": "4b32d48e-d257-4415-9f4c-a1852b29d577",
   "metadata": {},
   "outputs": [
    {
     "name": "stdin",
     "output_type": "stream",
     "text": [
      "Enter the value:  17\n"
     ]
    },
    {
     "name": "stdout",
     "output_type": "stream",
     "text": [
      "17 is a prime number\n"
     ]
    }
   ],
   "source": [
    "num = int(input(\"Enter the value: \"))\n",
    "# If given number is greater than 1\n",
    "if num > 1:\n",
    "    # Iterate from 2 to n / 2\n",
    "    for i in range(2, int(num/2)+1):\n",
    "        # If num is divisible by any number between\n",
    "        # 2 and n / 2, it is not prime\n",
    "        if (num % i) == 0:\n",
    "            print(num, \"is not a prime number\")\n",
    "            break\n",
    "    else:\n",
    "        print(num, \"is a prime number\")\n",
    "else:\n",
    "    print(num, \"is not a prime number\")"
   ]
  },
  {
   "cell_type": "code",
   "execution_count": null,
   "id": "dcd24911-828f-4af5-946c-00e2dfae7037",
   "metadata": {},
   "outputs": [],
   "source": []
  },
  {
   "cell_type": "markdown",
   "id": "8e84739a-bdad-4495-8c1d-c0cf1e9858bd",
   "metadata": {},
   "source": [
    "## Map :-"
   ]
  },
  {
   "cell_type": "code",
   "execution_count": null,
   "id": "e10dfa1c-4854-4c0c-b635-203d5b3ab4e7",
   "metadata": {},
   "outputs": [],
   "source": []
  },
  {
   "cell_type": "markdown",
   "id": "d9f17aae-3fbd-48f4-8e55-b38e8709ab3d",
   "metadata": {},
   "source": [
    "1.\tExplain the purpose of the `map()` function in Python and provide an example of how it can be used to apply a function to each element of an iterable."
   ]
  },
  {
   "cell_type": "markdown",
   "id": "2a730f9d-602a-483b-8949-c3ea52335753",
   "metadata": {},
   "source": [
    "The map() function in Python is used to apply a given function to each element of an iterable (such as a list, tuple, or dictionary) and return a new iterable with the results. The syntax for the map() function"
   ]
  },
  {
   "cell_type": "code",
   "execution_count": 1,
   "id": "e9ac52b9-05a2-4e53-8364-ae6278507777",
   "metadata": {},
   "outputs": [
    {
     "name": "stdout",
     "output_type": "stream",
     "text": [
      "[1, 4, 9, 16, 25]\n"
     ]
    }
   ],
   "source": [
    "def square(x):\n",
    "    return x ** 2\n",
    "\n",
    "numbers = [1, 2, 3, 4, 5]\n",
    "squared_numbers = map(square, numbers)\n",
    "print(list(squared_numbers))\n"
   ]
  },
  {
   "cell_type": "code",
   "execution_count": null,
   "id": "46f3c31c-c7b4-44cd-9a58-d591c6993920",
   "metadata": {},
   "outputs": [],
   "source": []
  },
  {
   "cell_type": "markdown",
   "id": "f8ea76a6-bd33-470a-abdf-8b080b0adaaf",
   "metadata": {},
   "source": [
    "2.\tWrite a Python program that uses the `map()` function to square each element of a list of numbers."
   ]
  },
  {
   "cell_type": "code",
   "execution_count": 4,
   "id": "05453ce8-3f4a-4e38-a5c3-51702ae97257",
   "metadata": {},
   "outputs": [
    {
     "name": "stdout",
     "output_type": "stream",
     "text": [
      "[1, 4, 9, 16, 25, 36, 49, 64, 81, 100]\n"
     ]
    }
   ],
   "source": [
    "l=list(map(lambda x:x*x,range(1,11)))\n",
    "print(l)"
   ]
  },
  {
   "cell_type": "code",
   "execution_count": null,
   "id": "ba1d3670-a38f-4bfa-979f-a6b51007f96e",
   "metadata": {},
   "outputs": [],
   "source": []
  },
  {
   "cell_type": "markdown",
   "id": "6090ad4a-e849-4893-b32d-26cdf06005c8",
   "metadata": {},
   "source": [
    "3.\tHow does the `map()` function differ from a list comprehension in Python, and when would you choose one over the other?"
   ]
  },
  {
   "cell_type": "markdown",
   "id": "ed8082bd-7199-4fed-ba31-dbd68e3a96da",
   "metadata": {},
   "source": [
    "The map() function and list comprehensions are both used to apply a function to each element of an iterable. However, there are some differences between the two.\n",
    "\n",
    "The map() function returns a map object (which is an iterator) of the results after applying the given function to each item of the iterable. In contrast, list comprehensions return a new list after applying the given expression to each item of the iterable.\n",
    "\n",
    "List comprehensions are generally more concise and easier to read than map(). They also allow filtering, which is not possible with map()."
   ]
  },
  {
   "cell_type": "code",
   "execution_count": null,
   "id": "31947299-2a76-48bd-a93c-9c11a9c96c65",
   "metadata": {},
   "outputs": [],
   "source": []
  },
  {
   "cell_type": "markdown",
   "id": "7ca88390-6772-4caf-9ece-ba13c0904dcd",
   "metadata": {},
   "source": [
    "4.\tCreate a Python program that uses the `map()` function to convert a list of names to uppercase."
   ]
  },
  {
   "cell_type": "code",
   "execution_count": 6,
   "id": "3ffa0a6f-8f39-4116-a732-8f620e6aa42e",
   "metadata": {},
   "outputs": [
    {
     "name": "stdout",
     "output_type": "stream",
     "text": [
      "['JOHN', 'JANE', 'JIM', 'JESSICA']\n"
     ]
    }
   ],
   "source": [
    "names = ['john', 'jane', 'jim', 'jessica']\n",
    "upper_names = list(map(str.upper, names))\n",
    "print(upper_names)"
   ]
  },
  {
   "cell_type": "code",
   "execution_count": null,
   "id": "66040919-8a29-41db-b2ee-6138d57ef749",
   "metadata": {},
   "outputs": [],
   "source": []
  },
  {
   "cell_type": "markdown",
   "id": "555fb69e-12ac-4f93-bb34-b6a0d21de473",
   "metadata": {},
   "source": [
    "5.\tWrite a Python program that uses the `map()` function to calculate the length of each word in a list of strings."
   ]
  },
  {
   "cell_type": "code",
   "execution_count": 7,
   "id": "efa22845-d86b-4e34-a6d1-913a201c6929",
   "metadata": {},
   "outputs": [
    {
     "data": {
      "text/plain": [
       "[4, 5, 8]"
      ]
     },
     "execution_count": 7,
     "metadata": {},
     "output_type": "execute_result"
    }
   ],
   "source": [
    "l=[\"sudh\",\"kumar\",\"pwskills\"]\n",
    "list(map(lambda a:len(a),l))"
   ]
  },
  {
   "cell_type": "code",
   "execution_count": null,
   "id": "fa362b52-709e-430e-86ae-cf7397dd836a",
   "metadata": {},
   "outputs": [],
   "source": []
  },
  {
   "cell_type": "markdown",
   "id": "c9e42318-39ac-412f-ac89-fc1ef26e0f4f",
   "metadata": {},
   "source": [
    "6.\tHow can you use the `map()` function to apply a custom function to elements of multiple lists simultaneously in Python?"
   ]
  },
  {
   "cell_type": "code",
   "execution_count": 8,
   "id": "388dcd26-e886-4dd7-9cbe-ba0a1e2cc3bd",
   "metadata": {},
   "outputs": [
    {
     "name": "stdout",
     "output_type": "stream",
     "text": [
      "[12, 15, 18]\n"
     ]
    }
   ],
   "source": [
    "def custom_function(x, y, z):\n",
    "    return x + y + z\n",
    "\n",
    "list1 = [1, 2, 3]\n",
    "list2 = [4, 5, 6]\n",
    "list3 = [7, 8, 9]\n",
    "\n",
    "result = list(map(custom_function, list1, list2, list3))\n",
    "print(result)\n"
   ]
  },
  {
   "cell_type": "code",
   "execution_count": null,
   "id": "c2ee512b-b5ba-468d-855f-f656621a46a6",
   "metadata": {},
   "outputs": [],
   "source": []
  },
  {
   "cell_type": "markdown",
   "id": "7f99c353-5556-4f8d-8003-1fec51a2a741",
   "metadata": {},
   "source": [
    "7.\tCreate a Python program that uses `map()` to convert a list of temperatures from Celsius to Fahrenheit."
   ]
  },
  {
   "cell_type": "code",
   "execution_count": 1,
   "id": "77f3d3fa-b998-44c2-b809-466aa94d6e1c",
   "metadata": {},
   "outputs": [
    {
     "data": {
      "text/plain": [
       "[212.0, 194.0, 176.0, 158.0, 140.0]"
      ]
     },
     "execution_count": 1,
     "metadata": {},
     "output_type": "execute_result"
    }
   ],
   "source": [
    "celcius= [100,90,80,70,60]\n",
    "list(map(lambda x:x*(9/5)+32 ,celcius))"
   ]
  },
  {
   "cell_type": "code",
   "execution_count": null,
   "id": "faa03697-7695-4a5d-a123-4b64792d524e",
   "metadata": {},
   "outputs": [],
   "source": []
  },
  {
   "cell_type": "markdown",
   "id": "f32d60a1-9fc8-457a-9bbd-61965a6b403a",
   "metadata": {},
   "source": [
    "8.\tWrite a Python program that uses the `map()` function to round each element of a list of floating-point numbers to the nearest integer."
   ]
  },
  {
   "cell_type": "code",
   "execution_count": 3,
   "id": "207aa3a3-535e-4d0b-b08c-80eefb382f00",
   "metadata": {},
   "outputs": [
    {
     "data": {
      "text/plain": [
       "[2, 2, 4, 4, 6]"
      ]
     },
     "execution_count": 3,
     "metadata": {},
     "output_type": "execute_result"
    }
   ],
   "source": [
    "l=[1.5,2.4,3.9,4.4,5.8]\n",
    "list(map(lambda x:round(x), l))"
   ]
  },
  {
   "cell_type": "code",
   "execution_count": null,
   "id": "0a1380ae-e94d-44d0-bb57-7e777f04133b",
   "metadata": {},
   "outputs": [],
   "source": []
  },
  {
   "cell_type": "markdown",
   "id": "c8f3af5d-e195-487e-884d-8b656f362152",
   "metadata": {},
   "source": [
    "## Reduce :-"
   ]
  },
  {
   "cell_type": "code",
   "execution_count": null,
   "id": "07732a5e-33c4-421e-9423-c40dd12a7975",
   "metadata": {},
   "outputs": [],
   "source": []
  },
  {
   "cell_type": "markdown",
   "id": "1e526a8c-9672-4d53-ad55-9a23d6ec70b3",
   "metadata": {},
   "source": [
    "1.\tWhat is the `reduce()` function in Python, and what module should you import to use it? Provide an example of its basic usage."
   ]
  },
  {
   "cell_type": "markdown",
   "id": "36f90caa-f937-4c66-ba7e-b274be38c21c",
   "metadata": {},
   "source": [
    "The reduce() function in Python is used to apply a given function to the elements of an iterable and reduce them to a single value. The reduce() function is defined in the functools module, so you need to import it before using it."
   ]
  },
  {
   "cell_type": "code",
   "execution_count": 7,
   "id": "52f03b04-ecde-4b77-90d9-466a261ec9d0",
   "metadata": {},
   "outputs": [
    {
     "name": "stdout",
     "output_type": "stream",
     "text": [
      "120\n"
     ]
    }
   ],
   "source": [
    "from functools import reduce\n",
    "\n",
    "def multiply(x, y):\n",
    "    return x * y\n",
    "\n",
    "numbers = [1, 2, 3, 4, 5]\n",
    "result = reduce(multiply, numbers)\n",
    "print(result)"
   ]
  },
  {
   "cell_type": "code",
   "execution_count": null,
   "id": "7ec3fb3c-cd30-4b4d-b61c-9e84f196f338",
   "metadata": {},
   "outputs": [],
   "source": []
  },
  {
   "cell_type": "markdown",
   "id": "455b9bc8-4b19-4f17-b188-0f335c93a3ba",
   "metadata": {},
   "source": [
    "2.\tWrite a Python program that uses the `reduce()` function to find the product of all elements in a list."
   ]
  },
  {
   "cell_type": "code",
   "execution_count": 6,
   "id": "981f5b9a-0c4e-41be-8cdf-7b30b960d924",
   "metadata": {},
   "outputs": [
    {
     "name": "stdout",
     "output_type": "stream",
     "text": [
      "120\n"
     ]
    }
   ],
   "source": [
    "from functools import reduce\n",
    "\n",
    "def multiply(x, y):\n",
    "    return x * y\n",
    "\n",
    "numbers = [1, 2, 3, 4, 5]\n",
    "result = reduce(multiply, numbers)\n",
    "print(result)"
   ]
  },
  {
   "cell_type": "code",
   "execution_count": null,
   "id": "f6f5a552-e97f-4d7e-a456-be119077107c",
   "metadata": {},
   "outputs": [],
   "source": []
  },
  {
   "cell_type": "markdown",
   "id": "8d61d472-fb2e-484e-a211-db5ec38e1f26",
   "metadata": {},
   "source": [
    "3.\tCreate a Python program that uses `reduce()` to find the maximum element in a list of numbers."
   ]
  },
  {
   "cell_type": "code",
   "execution_count": 8,
   "id": "751daf66-4876-4a71-8f3c-0a28429b41c9",
   "metadata": {},
   "outputs": [
    {
     "data": {
      "text/plain": [
       "9"
      ]
     },
     "execution_count": 8,
     "metadata": {},
     "output_type": "execute_result"
    }
   ],
   "source": [
    "l=[8,9,2,6,5]\n",
    "from functools import reduce\n",
    "reduce(lambda a,b:a if a>b else b , l)"
   ]
  },
  {
   "cell_type": "code",
   "execution_count": null,
   "id": "2bfa0792-215f-428a-8188-92e2f00d3829",
   "metadata": {},
   "outputs": [],
   "source": []
  },
  {
   "cell_type": "markdown",
   "id": "5eaa5a7f-1355-4070-b62f-64d182e0a0b4",
   "metadata": {},
   "source": [
    "4.\tHow can you use the `reduce()` function to concatenate a list of strings into a single string?"
   ]
  },
  {
   "cell_type": "code",
   "execution_count": 9,
   "id": "2a89d727-cd67-44e0-b0d6-460a3ffd7abe",
   "metadata": {},
   "outputs": [
    {
     "name": "stdout",
     "output_type": "stream",
     "text": [
      "helloworldhowareyou\n"
     ]
    }
   ],
   "source": [
    "from functools import reduce\n",
    "\n",
    "strings = ['hello', 'world', 'how', 'are', 'you']\n",
    "result = reduce(lambda x, y: x + y, strings)\n",
    "print(result)"
   ]
  },
  {
   "cell_type": "code",
   "execution_count": null,
   "id": "f1e79b6a-30c7-4855-9127-04b60b1b37ff",
   "metadata": {},
   "outputs": [],
   "source": []
  },
  {
   "cell_type": "markdown",
   "id": "b1bf542a-1358-48b1-8267-97abce72ad07",
   "metadata": {},
   "source": [
    "5.\tWrite a Python program that calculates the factorial of a number using the `reduce()` function."
   ]
  },
  {
   "cell_type": "code",
   "execution_count": 12,
   "id": "42e96015-b2b9-4ef4-9659-91adbfb8bce4",
   "metadata": {},
   "outputs": [
    {
     "name": "stdin",
     "output_type": "stream",
     "text": [
      "Enter the number:  6\n"
     ]
    },
    {
     "name": "stdout",
     "output_type": "stream",
     "text": [
      "720\n"
     ]
    }
   ],
   "source": [
    "number=int(input(\"Enter the number: \"))\n",
    "fact=reduce(lambda a,b:a*b,range(1,number+1))\n",
    "print(fact)"
   ]
  },
  {
   "cell_type": "code",
   "execution_count": null,
   "id": "5058af02-e80d-4130-8cb1-676f66057c97",
   "metadata": {},
   "outputs": [],
   "source": []
  },
  {
   "cell_type": "markdown",
   "id": "53535c86-d5d8-4199-afe9-4ae1b9bff596",
   "metadata": {},
   "source": [
    "6.\tCreate a Python program that uses `reduce()` to find the GCD (Greatest Common Divisor) of a list of numbers."
   ]
  },
  {
   "cell_type": "code",
   "execution_count": 14,
   "id": "f99bbe76-cd50-45d9-835e-6e8860fbe878",
   "metadata": {},
   "outputs": [
    {
     "name": "stdout",
     "output_type": "stream",
     "text": [
      "12\n"
     ]
    }
   ],
   "source": [
    "from functools import reduce\n",
    "import math\n",
    "\n",
    "def gcd(x, y):\n",
    "    return math.gcd(x, y)\n",
    "\n",
    "numbers = [12, 24, 36, 48, 60]\n",
    "result = reduce(gcd, numbers)\n",
    "print(result)"
   ]
  },
  {
   "cell_type": "code",
   "execution_count": null,
   "id": "3c4938b8-cc22-4ca8-9e40-de77c30c47a5",
   "metadata": {},
   "outputs": [],
   "source": []
  },
  {
   "cell_type": "markdown",
   "id": "c8f6ad8e-1208-4963-8c94-cec41634320a",
   "metadata": {},
   "source": [
    "7.\tWrite a Python program that uses the `reduce()` function to find the sum of the digits of a given number."
   ]
  },
  {
   "cell_type": "code",
   "execution_count": 5,
   "id": "4b4186a4-346e-4f2d-8d57-586ed4718cee",
   "metadata": {},
   "outputs": [
    {
     "name": "stdin",
     "output_type": "stream",
     "text": [
      "Enter the number: 123456789\n"
     ]
    },
    {
     "name": "stdout",
     "output_type": "stream",
     "text": [
      "The sum of digits in 123456789 is 45\n"
     ]
    }
   ],
   "source": [
    "from functools import reduce\n",
    "\n",
    "def sum_of_digits(number):\n",
    "    return reduce(lambda x, y: int(x) + int(y), str(number))\n",
    "\n",
    "number = int(input(\"Enter the number:\"))\n",
    "print(f\"The sum of digits in {number} is {sum_of_digits(number)}\")\n"
   ]
  },
  {
   "cell_type": "code",
   "execution_count": null,
   "id": "b53e7d44-a3da-492f-88b4-6063c41b7db8",
   "metadata": {},
   "outputs": [],
   "source": []
  },
  {
   "cell_type": "markdown",
   "id": "47a3882e-43d3-4c1f-b56f-d69e5718e7e6",
   "metadata": {},
   "source": [
    "## Filter :-"
   ]
  },
  {
   "cell_type": "code",
   "execution_count": null,
   "id": "0d2cc9d2-da8d-40fc-989d-a4bf527f9c8e",
   "metadata": {},
   "outputs": [],
   "source": []
  },
  {
   "cell_type": "markdown",
   "id": "c69a119b-0f52-4d02-8e95-9ff7083fbe9e",
   "metadata": {},
   "source": [
    "1.\tExplain the purpose of the `filter()` function in Python and provide an example of how it can be used to filter elements from an iterable."
   ]
  },
  {
   "cell_type": "markdown",
   "id": "b68aba3c-2a36-48ab-9f79-e901b89c8025",
   "metadata": {},
   "source": [
    "The filter() function in Python is a built-in function that allows you to filter elements from an iterable based on a given condition. It returns an iterator containing only the elements that satisfy the condition."
   ]
  },
  {
   "cell_type": "code",
   "execution_count": null,
   "id": "5889299c-e4ef-4249-af4a-fce86f74300a",
   "metadata": {},
   "outputs": [],
   "source": []
  },
  {
   "cell_type": "markdown",
   "id": "7b5b04e0-cbad-431e-98a9-7cfce70978f9",
   "metadata": {},
   "source": [
    "2.\tWrite a Python program that uses the `filter()` function to select even numbers from a list of integers."
   ]
  },
  {
   "cell_type": "code",
   "execution_count": 22,
   "id": "4f29ad49-e904-45f6-8ac7-1e067c4a7f99",
   "metadata": {},
   "outputs": [
    {
     "data": {
      "text/plain": [
       "[2, 4, 6, 8, 10]"
      ]
     },
     "execution_count": 22,
     "metadata": {},
     "output_type": "execute_result"
    }
   ],
   "source": [
    "list(filter(lambda x: x%2==0, range(1,11)))"
   ]
  },
  {
   "cell_type": "code",
   "execution_count": null,
   "id": "c4ec4961-605b-49de-b1f6-0b88a233c441",
   "metadata": {},
   "outputs": [],
   "source": []
  },
  {
   "cell_type": "markdown",
   "id": "3842dfe2-abda-4f45-be55-9de9fd773b78",
   "metadata": {},
   "source": [
    "3.\tCreate a Python program that uses the `filter()` function to select names that start with a specific letter from a list of strings."
   ]
  },
  {
   "cell_type": "code",
   "execution_count": 26,
   "id": "47c93404-4dab-4ebd-bf02-d3ad9788fa38",
   "metadata": {},
   "outputs": [
    {
     "data": {
      "text/plain": [
       "['sudh', 'school']"
      ]
     },
     "execution_count": 26,
     "metadata": {},
     "output_type": "execute_result"
    }
   ],
   "source": [
    "l=[\"sudh\",\"school\",\"gym\"]\n",
    "list(filter(lambda x:x[0]==\"s\" , l))"
   ]
  },
  {
   "cell_type": "code",
   "execution_count": null,
   "id": "b037258c-c21f-4c94-af16-5d735f7c0993",
   "metadata": {},
   "outputs": [],
   "source": []
  },
  {
   "cell_type": "markdown",
   "id": "9ca39465-a3de-4116-aa3d-8c7dc04b289a",
   "metadata": {},
   "source": [
    "4.\tWrite a Python program that uses the `filter()` function to select prime numbers from a list of integers."
   ]
  },
  {
   "cell_type": "code",
   "execution_count": 27,
   "id": "d2b3b1a5-f312-4dcb-9ac1-72e7125e23b1",
   "metadata": {},
   "outputs": [
    {
     "name": "stdout",
     "output_type": "stream",
     "text": [
      "[2, 3, 5, 7]\n"
     ]
    }
   ],
   "source": [
    "def is_prime(num):\n",
    "    if num < 2:\n",
    "        return False\n",
    "    for i in range(2, num):\n",
    "        if num % i == 0:\n",
    "            return False\n",
    "    return True\n",
    "\n",
    "numbers = [1, 2, 3, 4, 5, 6, 7, 8, 9, 10]\n",
    "prime_numbers = list(filter(is_prime, numbers))\n",
    "\n",
    "print(prime_numbers)\n"
   ]
  },
  {
   "cell_type": "code",
   "execution_count": null,
   "id": "b836f759-bce4-4dd3-a2e9-499064432c63",
   "metadata": {},
   "outputs": [],
   "source": []
  },
  {
   "cell_type": "markdown",
   "id": "e0566299-10ea-4fc9-8218-bdfed93afdb3",
   "metadata": {},
   "source": [
    "5.\tHow can you use the `filter()` function to remove None values from a list in Python?"
   ]
  },
  {
   "cell_type": "code",
   "execution_count": 6,
   "id": "c6db9c5f-109c-4f64-ace1-8093ce91e7dd",
   "metadata": {},
   "outputs": [
    {
     "name": "stdout",
     "output_type": "stream",
     "text": [
      "[1, 2, 3, 4]\n"
     ]
    }
   ],
   "source": [
    "my_list = [1, None, 2, None, 3, None, 4]\n",
    "new_list = list(filter(lambda x: x is not None, my_list))\n",
    "print(new_list)"
   ]
  },
  {
   "cell_type": "code",
   "execution_count": null,
   "id": "20fb3540-6731-400d-bfc8-f1dc2f1d26c9",
   "metadata": {},
   "outputs": [],
   "source": []
  },
  {
   "cell_type": "markdown",
   "id": "a17a7db1-8265-43cc-9e8a-56e745377f5d",
   "metadata": {},
   "source": [
    "6.\tCreate a Python program that uses `filter()` to select words longer than a certain length from a list of strings"
   ]
  },
  {
   "cell_type": "code",
   "execution_count": 28,
   "id": "7b6fbde0-4c21-486c-977d-72d8bca52c4a",
   "metadata": {},
   "outputs": [
    {
     "data": {
      "text/plain": [
       "['sudh', 'school']"
      ]
     },
     "execution_count": 28,
     "metadata": {},
     "output_type": "execute_result"
    }
   ],
   "source": [
    "l=[\"sudh\",\"school\",\"gym\"]\n",
    "list(filter(lambda x:len(x)>=4 , l))"
   ]
  },
  {
   "cell_type": "code",
   "execution_count": null,
   "id": "7c9c7018-a997-4434-8b1c-e43b2db0d79b",
   "metadata": {},
   "outputs": [],
   "source": []
  },
  {
   "cell_type": "markdown",
   "id": "51194600-5be6-420a-adfa-8be5ac6e86e7",
   "metadata": {},
   "source": [
    "7.\tWrite a Python program that uses the `filter()` function to select elements greater than a specified threshold from a list of values."
   ]
  },
  {
   "cell_type": "code",
   "execution_count": 29,
   "id": "325c5cdc-d4e5-4018-9771-eb3fb23390f7",
   "metadata": {},
   "outputs": [
    {
     "name": "stdout",
     "output_type": "stream",
     "text": [
      "The values greater than 5 are [6, 7, 8, 9, 10]\n"
     ]
    }
   ],
   "source": [
    "def filter_greater_than_threshold(threshold, values):\n",
    "    return list(filter(lambda x: x > threshold, values))\n",
    "\n",
    "values = [1, 2, 3, 4, 5, 6, 7, 8, 9, 10]\n",
    "threshold = 5\n",
    "filtered_values = filter_greater_than_threshold(threshold, values)\n",
    "\n",
    "print(f\"The values greater than {threshold} are {filtered_values}\")\n"
   ]
  },
  {
   "cell_type": "code",
   "execution_count": null,
   "id": "681900f5-6146-4eed-b381-6da8b0b83b14",
   "metadata": {},
   "outputs": [],
   "source": []
  },
  {
   "cell_type": "markdown",
   "id": "70b5e8ef-58c1-4dfd-a5a3-fe1cde87003c",
   "metadata": {},
   "source": [
    "## Recursion:-"
   ]
  },
  {
   "cell_type": "code",
   "execution_count": null,
   "id": "02d89baf-c2c5-421c-b582-a309bfbf12ca",
   "metadata": {},
   "outputs": [],
   "source": []
  },
  {
   "cell_type": "markdown",
   "id": "5ea1d317-0d28-4d95-a0ce-fbecede06653",
   "metadata": {},
   "source": [
    "1.\tExplain the concept of recursion in Python. How does it differ from iteration?"
   ]
  },
  {
   "cell_type": "markdown",
   "id": "a8228af8-54e8-44e8-9ed7-f44412c9f2d7",
   "metadata": {},
   "source": [
    "In Python, recursion is a technique where a function calls itself to solve a problem. The function continues to call itself with a smaller version of the problem until it reaches a base case, which is a problem that can be solved without further recursion .\n",
    "\n",
    "Iteration, on the other hand, is a technique where a loop is used to repeatedly execute a block of code until a certain condition is met .\n",
    "\n",
    "The main difference between recursion and iteration is that recursion involves calling a function from within the same function, while iteration involves using a loop to repeatedly execute a block of code . Recursion is often used when the problem can be broken down into smaller subproblems that can be solved using the same approach as the original problem. Iteration is often used when the problem can be solved by repeatedly executing a block of code until a certain condition is met .\n",
    "\n",
    "Recursion can be more elegant and easier to read than iteration in some cases, but it can also be less efficient in terms of memory usage and execution time . Iteration, on the other hand, can be more efficient in terms of memory usage and execution time, but it can also be more complex and harder to read than recursion in some cases ."
   ]
  },
  {
   "cell_type": "code",
   "execution_count": null,
   "id": "dd7c9877-3af8-4190-9a07-a533b9f2157b",
   "metadata": {},
   "outputs": [],
   "source": []
  },
  {
   "cell_type": "markdown",
   "id": "51342d37-9718-4de8-8b15-e6c2a7b720f3",
   "metadata": {},
   "source": [
    "2.\tWrite a Python program to calculate the factorial of a number using recursion."
   ]
  },
  {
   "cell_type": "code",
   "execution_count": 11,
   "id": "b6a3ad4b-2603-408b-ac6e-2484ea7dd1f9",
   "metadata": {},
   "outputs": [
    {
     "name": "stdin",
     "output_type": "stream",
     "text": [
      "Enter the number:  6\n"
     ]
    },
    {
     "data": {
      "text/plain": [
       "720"
      ]
     },
     "execution_count": 11,
     "metadata": {},
     "output_type": "execute_result"
    }
   ],
   "source": [
    "def fact(n):\n",
    "    if n<=1:\n",
    "        return 1\n",
    "    else:\n",
    "        return n*fact(n-1)\n",
    "\n",
    "n=int(input(\"Enter the number: \"))\n",
    "fact(n)"
   ]
  },
  {
   "cell_type": "code",
   "execution_count": null,
   "id": "896c759a-0808-440d-ac3e-fd8b70b7d050",
   "metadata": {},
   "outputs": [],
   "source": []
  },
  {
   "cell_type": "markdown",
   "id": "99cb34cc-4e4f-439a-a628-fd09a67cc2c6",
   "metadata": {},
   "source": [
    "3.\tCreate a recursive Python function to find the nth Fibonacci number."
   ]
  },
  {
   "cell_type": "code",
   "execution_count": 1,
   "id": "934849eb-2865-4e3d-b591-73c6a4a7846e",
   "metadata": {},
   "outputs": [
    {
     "name": "stdin",
     "output_type": "stream",
     "text": [
      "Enter the number:  10\n"
     ]
    },
    {
     "data": {
      "text/plain": [
       "55"
      ]
     },
     "execution_count": 1,
     "metadata": {},
     "output_type": "execute_result"
    }
   ],
   "source": [
    "def fib(n):\n",
    "    if n<=1:\n",
    "        return n\n",
    "    else:\n",
    "        return fib(n-2) + fib(n-1)\n",
    "\n",
    "n=int(input(\"Enter the number: \"))\n",
    "fib(n)"
   ]
  },
  {
   "cell_type": "code",
   "execution_count": null,
   "id": "a485476b-df90-459b-97ca-c5220464fd70",
   "metadata": {},
   "outputs": [],
   "source": []
  },
  {
   "cell_type": "markdown",
   "id": "6e0fbfa9-f129-407f-b2fa-bb220746cdc3",
   "metadata": {},
   "source": [
    "4.\tWrite a recursive Python function to calculate the sum of all elements in a list."
   ]
  },
  {
   "cell_type": "code",
   "execution_count": 8,
   "id": "f028cbd5-ee5a-4b6c-b1f7-f7d71d7d6af0",
   "metadata": {},
   "outputs": [],
   "source": [
    "def sum_list(l):\n",
    "    if len(l)==0:\n",
    "        return 0\n",
    "    else:\n",
    "        return l[0] + sum_list(l[1:])"
   ]
  },
  {
   "cell_type": "code",
   "execution_count": 9,
   "id": "0bd77248-e131-451b-b363-99359a451f12",
   "metadata": {},
   "outputs": [
    {
     "data": {
      "text/plain": [
       "15"
      ]
     },
     "execution_count": 9,
     "metadata": {},
     "output_type": "execute_result"
    }
   ],
   "source": [
    "sum_list([1,2,3,4,5])"
   ]
  },
  {
   "cell_type": "markdown",
   "id": "04e672e5-cd8b-49cb-9899-d99a1e8d148b",
   "metadata": {},
   "source": [
    "5.\tHow can you prevent a recursive function from running indefinitely, causing a stack overflow error?"
   ]
  },
  {
   "cell_type": "markdown",
   "id": "cbebe6c3-4b7e-4923-85e1-f3096dbfc126",
   "metadata": {},
   "source": [
    "1. Define a base case\n",
    "2. Use tail recursion\n",
    "3. Use an explicit stack\n",
    "4. Increase the stack size"
   ]
  },
  {
   "cell_type": "code",
   "execution_count": null,
   "id": "bdd4518b-29da-4863-a9e2-93814a6e6cef",
   "metadata": {},
   "outputs": [],
   "source": []
  },
  {
   "cell_type": "markdown",
   "id": "087b13a0-75ef-49af-8514-c863f758d716",
   "metadata": {},
   "source": [
    "6.\tCreate a recursive Python function to find the greatest common divisor (GCD) of two numbers using the Euclidean algorithm."
   ]
  },
  {
   "cell_type": "code",
   "execution_count": 7,
   "id": "b2d19a7a-ec66-4a76-96fd-b19c819a1a65",
   "metadata": {},
   "outputs": [
    {
     "name": "stdin",
     "output_type": "stream",
     "text": [
      "Enter the first value: 25\n",
      "Enter the second value: 10\n"
     ]
    },
    {
     "name": "stdout",
     "output_type": "stream",
     "text": [
      "5\n"
     ]
    }
   ],
   "source": [
    "def gcd(a, b):\n",
    "    if b == 0:\n",
    "        return a\n",
    "    else:\n",
    "        return gcd(b, a % b)\n",
    "\n",
    "a=int(input(\"Enter the first value:\"))\n",
    "b=int(input(\"Enter the second value:\"))\n",
    "print(gcd(a,b))"
   ]
  },
  {
   "cell_type": "code",
   "execution_count": null,
   "id": "1dbf267f-5e71-4437-a31d-3e0ea4fa5bc3",
   "metadata": {},
   "outputs": [],
   "source": []
  },
  {
   "cell_type": "markdown",
   "id": "a767ea14-4bce-449d-ade4-e73f0d12f97e",
   "metadata": {},
   "source": [
    "7.\tWrite a recursive Python function to reverse a string."
   ]
  },
  {
   "cell_type": "code",
   "execution_count": 1,
   "id": "6e3b55a8-897c-4aff-ae3d-f405404e6e06",
   "metadata": {},
   "outputs": [],
   "source": [
    "def rev(s):\n",
    "    if s==\"\":\n",
    "        return \"\"\n",
    "    else:\n",
    "        return rev(s[1:]) + s[0]"
   ]
  },
  {
   "cell_type": "code",
   "execution_count": 2,
   "id": "a566fd53-77f1-4dce-aef1-195d83e8093e",
   "metadata": {},
   "outputs": [
    {
     "data": {
      "text/plain": [
       "'tariv'"
      ]
     },
     "execution_count": 2,
     "metadata": {},
     "output_type": "execute_result"
    }
   ],
   "source": [
    "rev(\"virat\")"
   ]
  },
  {
   "cell_type": "code",
   "execution_count": null,
   "id": "2d0acdeb-543f-4842-af67-87c42d8ac92d",
   "metadata": {},
   "outputs": [],
   "source": []
  },
  {
   "cell_type": "markdown",
   "id": "88cd1acc-8fea-4377-b68e-4c77c9155d4e",
   "metadata": {},
   "source": [
    "8.\tCreate a recursive Python function to calculate the power of a number (x^n)."
   ]
  },
  {
   "cell_type": "code",
   "execution_count": 5,
   "id": "92876c40-8d55-46bc-9be1-ef8ba5acba69",
   "metadata": {},
   "outputs": [],
   "source": [
    "def power(n, k):\n",
    "    if k==0:\n",
    "        return 1\n",
    "    else:\n",
    "        return n*power(n,k-1)"
   ]
  },
  {
   "cell_type": "code",
   "execution_count": 6,
   "id": "c6d77ddf-7b53-47ce-824a-f9b634d23519",
   "metadata": {},
   "outputs": [
    {
     "data": {
      "text/plain": [
       "32"
      ]
     },
     "execution_count": 6,
     "metadata": {},
     "output_type": "execute_result"
    }
   ],
   "source": [
    "power(2,5)"
   ]
  },
  {
   "cell_type": "code",
   "execution_count": null,
   "id": "00645237-a942-4fdb-9068-5c4f540513b4",
   "metadata": {},
   "outputs": [],
   "source": []
  },
  {
   "cell_type": "markdown",
   "id": "a970c6fe-5882-4812-b9be-06d0a034c487",
   "metadata": {},
   "source": [
    "9.\tWrite a recursive Python function to find all permutations of a given string."
   ]
  },
  {
   "cell_type": "code",
   "execution_count": 39,
   "id": "5c698c73-2907-47e6-99f7-84d86d59d4b4",
   "metadata": {},
   "outputs": [
    {
     "name": "stdout",
     "output_type": "stream",
     "text": [
      "Permutations of 'ABC': ['ABC', 'ACB', 'BAC', 'BCA', 'CAB', 'CBA']\n"
     ]
    }
   ],
   "source": [
    "def permute(s):\n",
    "\n",
    "  if len(s) == 1:\n",
    "    return [s]\n",
    "  else:\n",
    "    perms = []\n",
    "    for i in range(len(s)):\n",
    "      char = s[i]\n",
    "      remaining_string = s[:i] + s[i+1:]\n",
    "      for p in permute(remaining_string):\n",
    "        perms.append(char + p)\n",
    "    return perms\n",
    "\n",
    "# Example usage\n",
    "string = \"ABC\"\n",
    "permutations = permute(string)\n",
    "print(f\"Permutations of '{string}': {permutations}\")"
   ]
  },
  {
   "cell_type": "code",
   "execution_count": null,
   "id": "b2220d3f-218d-42f4-896e-08bd16a19217",
   "metadata": {},
   "outputs": [],
   "source": []
  },
  {
   "cell_type": "markdown",
   "id": "155c1ccb-d38c-45fa-8be0-48c1786382a9",
   "metadata": {},
   "source": [
    "10.\tWrite a recursive Python function to check if a string is a palindrome."
   ]
  },
  {
   "cell_type": "code",
   "execution_count": 38,
   "id": "c4d11705-0886-4ac9-8e68-13daffb9a826",
   "metadata": {},
   "outputs": [
    {
     "name": "stdout",
     "output_type": "stream",
     "text": [
      "'racecar' is a palindrome: True\n",
      "'race' is a palindrome: False\n"
     ]
    }
   ],
   "source": [
    "def is_palindrome(text):\n",
    "  if len(text) <= 1:\n",
    "    return True\n",
    "  else:\n",
    "    return text[0] == text[-1] and is_palindrome(text[1:-1])\n",
    "      \n",
    "text = \"racecar\"\n",
    "result = is_palindrome(text)\n",
    "print(f\"'{text}' is a palindrome: {result}\")\n",
    "\n",
    "text = \"race\"\n",
    "result = is_palindrome(text)\n",
    "print(f\"'{text}' is a palindrome: {result}\")"
   ]
  },
  {
   "cell_type": "code",
   "execution_count": null,
   "id": "58186141-729d-4452-8f94-4854f063f0b1",
   "metadata": {},
   "outputs": [],
   "source": []
  },
  {
   "cell_type": "markdown",
   "id": "5c7e8203-eaa6-4a6b-b48c-ad7fdcbbddc8",
   "metadata": {},
   "source": [
    "11.\tCreate a recursive Python function to generate all possible combinations of a list of elements."
   ]
  },
  {
   "cell_type": "code",
   "execution_count": 42,
   "id": "ed62e284-cf0f-4a3d-be73-a4627969cf72",
   "metadata": {},
   "outputs": [
    {
     "name": "stdout",
     "output_type": "stream",
     "text": [
      "[]\n",
      "['a']\n",
      "['b']\n",
      "['a', 'b']\n",
      "['c']\n",
      "['a', 'c']\n",
      "['b', 'c']\n",
      "['a', 'b', 'c']\n"
     ]
    }
   ],
   "source": [
    "def combinations(data):\n",
    "  if len(data) == 0:\n",
    "    yield []\n",
    "  else:\n",
    "    for combination in combinations(data[1:]):\n",
    "      yield combination\n",
    "      yield [data[0]] + combination\n",
    "\n",
    "# Example usage\n",
    "data = [\"a\", \"b\", \"c\"]\n",
    "for combination in combinations(data):\n",
    "  print(combination)"
   ]
  },
  {
   "cell_type": "code",
   "execution_count": null,
   "id": "7136d441-29e7-4f34-8212-e6a509933c47",
   "metadata": {},
   "outputs": [],
   "source": []
  },
  {
   "cell_type": "markdown",
   "id": "a2f8af45-85d9-488e-a4d5-7a2e1ed32ffc",
   "metadata": {},
   "source": [
    "## Basics of Functions:"
   ]
  },
  {
   "cell_type": "code",
   "execution_count": null,
   "id": "f13e2b71-1475-4cd2-be4b-aac213aef134",
   "metadata": {},
   "outputs": [],
   "source": []
  },
  {
   "cell_type": "markdown",
   "id": "a95def03-7d2c-41b6-87c8-036954f4cffc",
   "metadata": {},
   "source": [
    "1.\tWhat is a function in Python, and why is it used?"
   ]
  },
  {
   "cell_type": "markdown",
   "id": "5ede8f74-1639-4299-90fe-4ee479daa46f",
   "metadata": {},
   "source": [
    "In Python, a function is a named block of code that performs a specific task. It's like a mini-tool within your bigger program that you can call upon whenever you need its specific service.\n",
    "1. Reduce code duplication\n",
    "2. Improve readability and maintainability\n",
    "3. Promote modularity and reusability\n",
    "4. Encapsulation"
   ]
  },
  {
   "cell_type": "code",
   "execution_count": null,
   "id": "27ce66cf-e6ae-4628-a83b-ebb887998117",
   "metadata": {},
   "outputs": [],
   "source": []
  },
  {
   "cell_type": "markdown",
   "id": "e2f5a686-6629-458d-b1f0-5f3be792e4d8",
   "metadata": {},
   "source": [
    "2.\tHow do you define a function in Python? Provide an example."
   ]
  },
  {
   "cell_type": "markdown",
   "id": "a6231bb5-633d-4271-8c2b-adafac8fb6d8",
   "metadata": {},
   "source": [
    "def: This keyword marks the beginning of a function definition.\n",
    "function_name: This is a descriptive name for your function, like calculate_area or greet_user.\n",
    "arguments: These are optional parameters that the function can receive when called. They are listed inside parentheses, separated by commas.\n",
    "\n",
    "Docstring: This is an optional comment string within triple quotes (\"\"\") that explains what the function does. This is crucial for good documentation and understanding your code.\n",
    "\n",
    "Function body: This is where the actual work of the function happens. It can contain any valid Python code, including statements, expressions, and even other function calls.\n",
    "\n",
    "return value: This is the optional value that the function sends back when it's finished. If not specified, the function returns None."
   ]
  },
  {
   "cell_type": "code",
   "execution_count": 2,
   "id": "b587c2aa-320e-4fe4-b559-0c9273d14d9d",
   "metadata": {},
   "outputs": [
    {
     "name": "stdout",
     "output_type": "stream",
     "text": [
      "The area of the circle with radius 5 is: 78.54\n"
     ]
    }
   ],
   "source": [
    "def circle_area(radius):\n",
    "  area = 3.14159 * radius**2\n",
    "  return area\n",
    "\n",
    "radius = 5\n",
    "area = circle_area(radius)\n",
    "print(f\"The area of the circle with radius {radius} is: {area:.2f}\")"
   ]
  },
  {
   "cell_type": "code",
   "execution_count": null,
   "id": "e4ea1daa-ec7b-488f-9096-3a7f89306326",
   "metadata": {},
   "outputs": [],
   "source": []
  },
  {
   "cell_type": "markdown",
   "id": "d8fbc389-dc5c-4113-9cb9-00817e08922e",
   "metadata": {},
   "source": [
    "3.\tExplain the difference between a function definition and a function call"
   ]
  },
  {
   "cell_type": "markdown",
   "id": "2beaa46e-ed14-4afd-a7c5-697d79e80773",
   "metadata": {},
   "source": [
    "Function definition:\n",
    "\n",
    "What it is: The blueprint or recipe for a function. It tells the program what the function is called, what arguments it takes, what it does, and how it returns a value (if any).\n",
    "Where it happens: Typically written in the code before you use the function.\n",
    "Think of it as: Creating a new kitchen appliance, like a blender, with instructions on how to use it.\n",
    "Function call:\n",
    "\n",
    "What it is: Putting the function to work. You use the function name along with any necessary arguments to tell the program to execute the code defined in the function.\n",
    "Where it happens: Anywhere in your code where you need the function's output or functionality.\n",
    "Think of it as: Plugging in the blender and using it to mix ingredients according to the instructions."
   ]
  },
  {
   "cell_type": "code",
   "execution_count": null,
   "id": "3c6aa5ed-d5c4-460c-96d8-c3c914aa9644",
   "metadata": {},
   "outputs": [],
   "source": []
  },
  {
   "cell_type": "markdown",
   "id": "011ce01e-a137-4f44-97a3-d93d97b65d31",
   "metadata": {},
   "source": [
    "4.\tWrite a Python program that defines a function to calculate the sum of two numbers and then calls the function."
   ]
  },
  {
   "cell_type": "code",
   "execution_count": 3,
   "id": "65c9cba7-edee-498b-82ab-65a560f4df11",
   "metadata": {},
   "outputs": [
    {
     "name": "stdout",
     "output_type": "stream",
     "text": [
      "The sum of 10 and 20 is: 30\n"
     ]
    }
   ],
   "source": [
    "def sum_two_numbers(num1, num2):\n",
    "  return num1 + num2\n",
    "    \n",
    "number1 = 10\n",
    "number2 = 20\n",
    "total_sum = sum_two_numbers(number1, number2)\n",
    "print(f\"The sum of {number1} and {number2} is: {total_sum}\")\n"
   ]
  },
  {
   "cell_type": "code",
   "execution_count": null,
   "id": "4127c48b-3555-4f73-9fc6-8b90135666da",
   "metadata": {},
   "outputs": [],
   "source": []
  },
  {
   "cell_type": "markdown",
   "id": "8c662574-ed22-4806-a24c-8a1f2b10cada",
   "metadata": {},
   "source": [
    "5.\tWhat is a function signature, and what information does it typically include?"
   ]
  },
  {
   "cell_type": "markdown",
   "id": "9360e715-45b5-474e-ab4a-c37d3af9d1fc",
   "metadata": {},
   "source": [
    "A function signature is a declaration of a function that includes the function’s name, parameters, and return type. It is used to describe the function’s interface and is often used in documentation and code comments. The signature typically includes the number and types of input arguments the function takes and the type of the result the function returns . In Python, the signature of a function refers to the names and types of the arguments the function accepts, along with the type of its return value . The signature of a function is not specific to any particular programming language and is a concept that is used across many programming languages "
   ]
  },
  {
   "cell_type": "code",
   "execution_count": null,
   "id": "c526ae93-477d-4a09-9237-d7073d4d73d9",
   "metadata": {},
   "outputs": [],
   "source": []
  },
  {
   "cell_type": "markdown",
   "id": "bcb9ec9a-7ae8-4f1c-ac7b-3aec067e3a9d",
   "metadata": {},
   "source": [
    "6.\tCreate a Python function that takes two arguments and returns their product."
   ]
  },
  {
   "cell_type": "code",
   "execution_count": 6,
   "id": "dd686c1d-04cd-437d-b128-892314330d10",
   "metadata": {},
   "outputs": [
    {
     "name": "stdout",
     "output_type": "stream",
     "text": [
      "The sum of 10 and 20 is: 200\n"
     ]
    }
   ],
   "source": [
    "def product_two_numbers(num1, num2):\n",
    "  return num1 * num2\n",
    "    \n",
    "number1 = 10\n",
    "number2 = 20\n",
    "total_product = product_two_numbers(number1, number2)\n",
    "print(f\"The sum of {number1} and {number2} is: {total_product}\")"
   ]
  },
  {
   "cell_type": "code",
   "execution_count": null,
   "id": "0c1ecbbf-24b6-4ee5-8ee4-d3adf480e236",
   "metadata": {},
   "outputs": [],
   "source": []
  },
  {
   "cell_type": "markdown",
   "id": "5cd12489-a5bd-4fdb-b83c-4ccd287e062b",
   "metadata": {},
   "source": [
    "## Function Parameters and Arguments:"
   ]
  },
  {
   "cell_type": "code",
   "execution_count": null,
   "id": "0539e71e-1582-4022-9940-a38ae326e0cd",
   "metadata": {},
   "outputs": [],
   "source": []
  },
  {
   "cell_type": "markdown",
   "id": "c1ac49bd-f448-4e6d-b9f8-807ba8773e8d",
   "metadata": {},
   "source": [
    "1.\tExplain the concepts of formal parameters and actual arguments in Python functions."
   ]
  },
  {
   "cell_type": "markdown",
   "id": "00c99464-64cf-4915-9a8d-e70f7e06a20d",
   "metadata": {},
   "source": [
    "Formal Parameters:\n",
    "\n",
    "These are the variables declared inside the function's parentheses during its definition. They act as placeholders for the data that will be passed to the function when it's called.\n",
    "They define the interface of the function, specifying what kind of data it expects to receive.\n",
    "You can have any number of formal parameters, each separated by commas. Each parameter can have a name and an optional default value.\n",
    "\n",
    "Actual Arguments:\n",
    "\n",
    "These are the values that are actually passed to the function when it's called. They are listed inside the parentheses when calling the function and correspond to the formal parameters.\n",
    "The order of the actual arguments is crucial as they are matched to the formal parameters based on their position.\n",
    "The number of actual arguments provided must match the number of formal parameters (unless default values are used)."
   ]
  },
  {
   "cell_type": "code",
   "execution_count": null,
   "id": "78fe086e-1483-4d48-8a67-ec2a38551497",
   "metadata": {},
   "outputs": [],
   "source": []
  },
  {
   "cell_type": "markdown",
   "id": "1046b3e1-55a1-4fa5-8b65-59d214824d5c",
   "metadata": {},
   "source": [
    "2.\tWrite a Python program that defines a function with default argument values."
   ]
  },
  {
   "cell_type": "code",
   "execution_count": 3,
   "id": "32eb0e4a-d152-4408-8c57-031e10f59a94",
   "metadata": {},
   "outputs": [
    {
     "name": "stdout",
     "output_type": "stream",
     "text": [
      "Hello, World!\n",
      "Welcome, Alice!\n"
     ]
    }
   ],
   "source": [
    "def greet(name=\"World\", message=\"Hello\"):\n",
    "  return f\"{message}, {name}!\"\n",
    "\n",
    "print(greet()) \n",
    "print(greet(name=\"Alice\", message=\"Welcome\")) "
   ]
  },
  {
   "cell_type": "code",
   "execution_count": null,
   "id": "70d7824e-42b3-4132-b26e-c16c91534022",
   "metadata": {},
   "outputs": [],
   "source": []
  },
  {
   "cell_type": "markdown",
   "id": "9d91a935-e2f5-472d-b800-e2ca8f964581",
   "metadata": {},
   "source": [
    "3.\tHow do you use keyword arguments in Python function calls? Provide an example."
   ]
  },
  {
   "cell_type": "markdown",
   "id": "5864a1a1-0ede-4c38-bcd3-d7d966da0bc9",
   "metadata": {},
   "source": [
    "In Python, keyword arguments are used to pass arguments to a function by explicitly specifying the parameter names and their corresponding values."
   ]
  },
  {
   "cell_type": "code",
   "execution_count": 4,
   "id": "6f9b1add-b874-4cdc-96e4-0e29e519cc08",
   "metadata": {},
   "outputs": [
    {
     "name": "stdout",
     "output_type": "stream",
     "text": [
      "Hello, John!\n",
      "Hi, Jane!\n"
     ]
    }
   ],
   "source": [
    "def greet(name, message):\n",
    "    print(f\"{message}, {name}!\")\n",
    "\n",
    "# Using positional arguments\n",
    "greet(\"John\", \"Hello\")  # Output: Hello, John!\n",
    "\n",
    "# Using keyword arguments\n",
    "greet(message=\"Hi\", name=\"Jane\")  # Output: Hi, Jane!"
   ]
  },
  {
   "cell_type": "code",
   "execution_count": null,
   "id": "a7b7c65d-5b1d-45dd-90de-892be6ce4c03",
   "metadata": {},
   "outputs": [],
   "source": []
  },
  {
   "cell_type": "markdown",
   "id": "8068f005-375d-444d-aba5-d00e1d82d910",
   "metadata": {},
   "source": [
    "4.\tCreate a Python function that accepts a variable number of arguments and calculates their sum."
   ]
  },
  {
   "cell_type": "code",
   "execution_count": 5,
   "id": "0d948423-8c77-42f1-a23c-9222219a95b5",
   "metadata": {},
   "outputs": [
    {
     "name": "stdout",
     "output_type": "stream",
     "text": [
      "6\n",
      "15\n",
      "55\n"
     ]
    }
   ],
   "source": [
    "def sum_all(*args):\n",
    "    return sum(args)\n",
    "print(sum_all(1, 2, 3))  # Output: 6\n",
    "print(sum_all(1, 2, 3, 4, 5))  # Output: 15\n",
    "print(sum_all(1, 2, 3, 4, 5, 6, 7, 8, 9, 10))  # Output: 55"
   ]
  },
  {
   "cell_type": "code",
   "execution_count": null,
   "id": "49d5ceb7-993b-4015-9e7a-475edd96116a",
   "metadata": {},
   "outputs": [],
   "source": []
  },
  {
   "cell_type": "markdown",
   "id": "f02cf8db-edc3-4ca3-bfc8-73a55ac17f36",
   "metadata": {},
   "source": [
    "5.\tWhat is the purpose of the `*args` and `**kwargs` syntax in function parameter lists?"
   ]
  },
  {
   "cell_type": "markdown",
   "id": "af6291f9-48a8-48ff-b472-3c48113b65f2",
   "metadata": {},
   "source": [
    "The *args syntax is used to pass a variable number of non-keyworded arguments to a function. When we use *args in a function definition, it allows us to pass any number of arguments to the function.\n",
    "The **kwargs syntax is used to pass a variable number of keyworded arguments to a function. When we use **kwargs in a function definition, it allows us to pass any number of keyword arguments to the function. "
   ]
  },
  {
   "cell_type": "code",
   "execution_count": null,
   "id": "990ee63f-3edf-4e8f-a5c2-c3668ba98154",
   "metadata": {},
   "outputs": [],
   "source": []
  },
  {
   "cell_type": "markdown",
   "id": "15df7e81-709e-4b46-8a6b-706b865b7b12",
   "metadata": {},
   "source": [
    "## Return Values and Scoping:"
   ]
  },
  {
   "cell_type": "code",
   "execution_count": null,
   "id": "5083b19a-9b17-418a-9d59-8bf1f39193ef",
   "metadata": {},
   "outputs": [],
   "source": []
  },
  {
   "cell_type": "markdown",
   "id": "1d3a4dd1-de7c-4583-ab2b-81802ddd4aa5",
   "metadata": {},
   "source": [
    "1.\tDescribe the role of the `return` statement in Python functions and provide examples."
   ]
  },
  {
   "cell_type": "markdown",
   "id": "0bebbc24-3164-45db-85e8-f9da9ba495bb",
   "metadata": {},
   "source": [
    "In Python, the return statement is used to exit a function and return a value to the caller. When a return statement is executed, the function call is terminated, and the value specified in the return statement is sent back to the caller. "
   ]
  },
  {
   "cell_type": "code",
   "execution_count": 6,
   "id": "db2d0c73-b772-498e-8198-7218890a95db",
   "metadata": {},
   "outputs": [
    {
     "name": "stdout",
     "output_type": "stream",
     "text": [
      "5\n"
     ]
    }
   ],
   "source": [
    "def add_numbers(a, b):\n",
    "    return a + b\n",
    "\n",
    "result = add_numbers(2, 3)\n",
    "print(result)"
   ]
  },
  {
   "cell_type": "code",
   "execution_count": null,
   "id": "8a0e2fcb-eb33-4530-b2fb-a88718784d92",
   "metadata": {},
   "outputs": [],
   "source": []
  },
  {
   "cell_type": "markdown",
   "id": "a4b972ac-8f92-4a73-99ea-d270d9ad5385",
   "metadata": {},
   "source": [
    "2.\tExplain the concept of variable scope in Python, including local and global variables."
   ]
  },
  {
   "cell_type": "markdown",
   "id": "ba28f04c-810f-4534-b2ae-00a60438f911",
   "metadata": {},
   "source": [
    "Global variables:\n",
    "\n",
    "Defined outside any function.\n",
    "Accessible anywhere within the program, including inside all functions.\n",
    "Use cautiously: Overusing global variables can lead to messy code and unexpected behavior. Global variables should be used for truly global data accessible throughout the program.\n",
    "\n",
    "Local variables:\n",
    "\n",
    "Defined inside a function or block of code (like loops or if statements).\n",
    "Only accessible within the specific function or block where they are defined.\n",
    "Preferred approach: Local variables promote modularity and encapsulation, making code easier to maintain and understand. They prevent unintended manipulation of data from outside their scope.\n",
    "\n",
    "Rules for accessing variables:\n",
    "\n",
    "Python searches for a variable starting from the current scope and moves outwards until it finds the definition.\n",
    "If a local variable with the same name exists as a global variable, the local variable takes precedence within its scope.\n",
    "You can access a global variable from within a function using the global keyword before the variable name. This explicitly tells Python to use the global definition instead of creating a local copy.\n",
    "Additional concepts:"
   ]
  },
  {
   "cell_type": "code",
   "execution_count": null,
   "id": "c7e36878-aba0-4d9e-afb5-4a1fcc9467cd",
   "metadata": {},
   "outputs": [],
   "source": []
  },
  {
   "cell_type": "markdown",
   "id": "2b25fd85-7220-461f-9add-fa7e70016a88",
   "metadata": {},
   "source": [
    "3.\tWrite a Python program that demonstrates the use of global variables within functions."
   ]
  },
  {
   "cell_type": "code",
   "execution_count": 8,
   "id": "c4d6028a-04fe-4c24-8cab-7b5d955c719a",
   "metadata": {},
   "outputs": [
    {
     "name": "stdout",
     "output_type": "stream",
     "text": [
      "Current count: 3\n",
      "Current count: 2\n"
     ]
    }
   ],
   "source": [
    "total_count = 0\n",
    "\n",
    "def increment_count():\n",
    "  global total_count \n",
    "  total_count += 1\n",
    "\n",
    "def print_count():\n",
    "  print(f\"Current count: {total_count}\")\n",
    "\n",
    "increment_count()\n",
    "increment_count()\n",
    "increment_count()\n",
    "\n",
    "print_count()\n",
    "\n",
    "total_count -= 1\n",
    "print_count()  \n"
   ]
  },
  {
   "cell_type": "code",
   "execution_count": null,
   "id": "262e6355-09ee-4e6d-86ad-104f40b9fc75",
   "metadata": {},
   "outputs": [],
   "source": []
  },
  {
   "cell_type": "markdown",
   "id": "16fdf138-0ac7-4fb5-a1cc-78b50df9b438",
   "metadata": {},
   "source": [
    "4.\tCreate a Python function that calculates the factorial of a number and returns it."
   ]
  },
  {
   "cell_type": "code",
   "execution_count": null,
   "id": "c52e57c1-ae95-4538-b311-48ce91a823dc",
   "metadata": {},
   "outputs": [],
   "source": [
    "def factorial(n):\n",
    "    if n == 0:\n",
    "        return 1\n",
    "    else:\n",
    "        return n * factorial(n-1)\n",
    "\n",
    "print(factorial(5)) \n",
    "print(factorial(10)) \n",
    "print(factorial(0)) "
   ]
  },
  {
   "cell_type": "code",
   "execution_count": null,
   "id": "93bb0f26-f718-4aa1-ad2a-ded6d59baf6c",
   "metadata": {},
   "outputs": [],
   "source": []
  },
  {
   "cell_type": "markdown",
   "id": "2883325c-9b50-49a2-8ab1-152cc71c41c2",
   "metadata": {},
   "source": [
    "5.\tHow can you access variables defined outside a function from within the function?"
   ]
  },
  {
   "cell_type": "code",
   "execution_count": 8,
   "id": "301b9d1e-c31f-4f28-925c-3179134a568a",
   "metadata": {},
   "outputs": [
    {
     "name": "stdout",
     "output_type": "stream",
     "text": [
      "The value of x inside the function is: 10\n",
      "The value of x outside the function is: 10\n"
     ]
    }
   ],
   "source": [
    "x = 10  \n",
    "def my_function():\n",
    "    global x\n",
    "    print(\"The value of x inside the function is:\", x)\n",
    "\n",
    "my_function()\n",
    "\n",
    "print(\"The value of x outside the function is:\", x)"
   ]
  },
  {
   "cell_type": "code",
   "execution_count": null,
   "id": "c33e4312-928a-416a-9c84-285d2bbe73ce",
   "metadata": {},
   "outputs": [],
   "source": []
  },
  {
   "cell_type": "markdown",
   "id": "4bddfdd5-d9fe-41ec-a996-a6c87ca3016a",
   "metadata": {},
   "source": [
    "## Lambda Functions and Higher-Order Functions:"
   ]
  },
  {
   "cell_type": "code",
   "execution_count": null,
   "id": "857acc51-77b7-4d74-9a04-d74eca6c84cc",
   "metadata": {},
   "outputs": [],
   "source": []
  },
  {
   "cell_type": "markdown",
   "id": "6bf886de-d807-404d-8778-96773f7d3fed",
   "metadata": {},
   "source": [
    "1.\tWhat are lambda functions in Python, and when are they typically used?"
   ]
  },
  {
   "cell_type": "markdown",
   "id": "2b3846f9-cac9-430a-9054-8783cb43ba5b",
   "metadata": {},
   "source": [
    "In Python, lambda functions are anonymous functions that can be defined without a name. They are defined using the lambda keyword, followed by the function’s inputs, a colon, and the function’s expression. The output of a lambda function is returned as the result of the expression, rather than a return statement\n",
    "\n",
    "Lambda functions are typically used when we need to define a small function that will only contain simple expressions, such as a single line of code. They are particularly useful when we need to pass a function as an argument to another function, such as in the case of the map(), filter(), and reduce() functions "
   ]
  },
  {
   "cell_type": "code",
   "execution_count": null,
   "id": "42c8e7cc-b3d8-43ad-abef-070f5da6374d",
   "metadata": {},
   "outputs": [],
   "source": []
  },
  {
   "cell_type": "markdown",
   "id": "c42aeaf7-e6da-4ef9-a0aa-162e5507ccab",
   "metadata": {},
   "source": [
    "2.\tWrite a Python program that uses lambda functions to sort a list of tuples based on the second element."
   ]
  },
  {
   "cell_type": "code",
   "execution_count": 10,
   "id": "f5a252fa-5fd2-4725-a1be-12f7b8f4956e",
   "metadata": {},
   "outputs": [
    {
     "name": "stdout",
     "output_type": "stream",
     "text": [
      "[('cherry', 1), ('banana', 2), ('apple', 3), ('date', 4)]\n"
     ]
    }
   ],
   "source": [
    "my_list = [('apple', 3), ('banana', 2), ('cherry', 1), ('date', 4)]\n",
    "\n",
    "# Sort the list of tuples based on the second element\n",
    "my_list.sort(key=lambda x: x[1])\n",
    "\n",
    "# Print the sorted list of tuples\n",
    "print(my_list)"
   ]
  },
  {
   "cell_type": "code",
   "execution_count": null,
   "id": "03764e8a-341f-45fd-ad65-6474b400a9b9",
   "metadata": {},
   "outputs": [],
   "source": []
  },
  {
   "cell_type": "markdown",
   "id": "67da32e2-f148-4835-8c77-34c336aa97fb",
   "metadata": {},
   "source": [
    "3.\tExplain the concept of higher-order functions in Python, and provide an example."
   ]
  },
  {
   "cell_type": "markdown",
   "id": "8c2b5e1c-a0d4-4452-a5ab-3674cf2a6821",
   "metadata": {},
   "source": [
    "In Python, a higher-order function is a function that takes one or more functions as arguments, or returns a function as its result. Higher-order functions are useful for abstraction and code reuse, and they allow us to write more flexible and modular code "
   ]
  },
  {
   "cell_type": "code",
   "execution_count": 11,
   "id": "ef0f07c2-38c6-4c03-b1ba-12abcbdfeb9e",
   "metadata": {},
   "outputs": [
    {
     "name": "stdout",
     "output_type": "stream",
     "text": [
      "25\n"
     ]
    }
   ],
   "source": [
    "def apply(func, x):\n",
    "    return func(x)\n",
    "\n",
    "def square(x):\n",
    "    return x * x\n",
    "\n",
    "result = apply(square, 5)\n",
    "print(result) "
   ]
  },
  {
   "cell_type": "code",
   "execution_count": null,
   "id": "e66f006a-5962-4968-9e1c-8b644235a371",
   "metadata": {},
   "outputs": [],
   "source": []
  },
  {
   "cell_type": "markdown",
   "id": "84c9d40c-61c7-4dd3-9af7-dd83d7a528ea",
   "metadata": {},
   "source": [
    "4.\tCreate a Python function that takes a list of numbers and a function as arguments, applying the function to each element in the list."
   ]
  },
  {
   "cell_type": "code",
   "execution_count": 13,
   "id": "6048db52-6938-4e8a-80ef-e966c2b11f4c",
   "metadata": {},
   "outputs": [
    {
     "name": "stdout",
     "output_type": "stream",
     "text": [
      "[1, 4, 9, 16, 25]\n"
     ]
    }
   ],
   "source": [
    "def apply_function_to_list(lst, func):\n",
    "    return [func(num) for num in lst]\n",
    "\n",
    "lst = [1, 2, 3, 4, 5]\n",
    "squared_lst = apply_function_to_list(lst, lambda x: x ** 2)\n",
    "print(squared_lst)"
   ]
  },
  {
   "cell_type": "code",
   "execution_count": null,
   "id": "f17ec14f-f70c-4376-865c-c8466fe69852",
   "metadata": {},
   "outputs": [],
   "source": []
  },
  {
   "cell_type": "markdown",
   "id": "1814068c-b6a8-46dc-9faa-3904d200ecec",
   "metadata": {},
   "source": [
    "## Built-in Functions:"
   ]
  },
  {
   "cell_type": "code",
   "execution_count": null,
   "id": "ab39ce00-9337-4bee-aaf3-b8978f4df858",
   "metadata": {},
   "outputs": [],
   "source": []
  },
  {
   "cell_type": "markdown",
   "id": "e1cd0590-ffe8-49d5-89ed-d6216fd562c5",
   "metadata": {},
   "source": [
    "1.\tDescribe the role of built-in functions like `len()`, `max()`, and `min()` in Python."
   ]
  },
  {
   "cell_type": "markdown",
   "id": "d4da4e25-e898-4eb5-9fff-8216f63962f5",
   "metadata": {},
   "source": [
    "len() is used to get the length of a list, tuple, or string. For example, len([1, 2, 3]) would return 3, since there are three elements in the list.\n",
    "\n",
    "max() and min() are used to get the maximum and minimum values in a list or tuple. For example, max([1, 2, 3]) would return 3, since 3 is the largest element in the list. Similarly, min([1, 2, 3]) would return 1, since 1 is the smallest element in the list."
   ]
  },
  {
   "cell_type": "code",
   "execution_count": null,
   "id": "41f3875d-84ba-4bc6-bffc-b4f3721375bb",
   "metadata": {},
   "outputs": [],
   "source": []
  },
  {
   "cell_type": "markdown",
   "id": "bb4bdc8e-efbf-4d61-92ec-e9061c3eaf06",
   "metadata": {},
   "source": [
    "2.\tWrite a Python program that uses the `map()` function to apply a function to each element of a list."
   ]
  },
  {
   "cell_type": "code",
   "execution_count": 14,
   "id": "2857e8df-259d-4d3e-966e-0d8f05498f86",
   "metadata": {},
   "outputs": [
    {
     "name": "stdout",
     "output_type": "stream",
     "text": [
      "[1, 4, 9, 16, 25]\n"
     ]
    }
   ],
   "source": [
    "def apply_function_to_list(lst, func):\n",
    "    return list(map(func, lst))\n",
    "lst = [1, 2, 3, 4, 5]\n",
    "squared_lst = apply_function_to_list(lst, lambda x: x ** 2)\n",
    "print(squared_lst)"
   ]
  },
  {
   "cell_type": "code",
   "execution_count": null,
   "id": "a4de8bc6-2473-42a7-80d2-2c0d9ca66371",
   "metadata": {},
   "outputs": [],
   "source": []
  },
  {
   "cell_type": "markdown",
   "id": "9f6e16ba-5a91-4794-a0a2-157d1d4f8994",
   "metadata": {},
   "source": [
    "3.\tHow does the `filter()` function work in Python, and when would you use it?"
   ]
  },
  {
   "cell_type": "markdown",
   "id": "ff108940-8ddf-4b46-86ba-cfa0ceed58c8",
   "metadata": {},
   "source": [
    "filter() is a built-in Python function that is used to filter elements from an iterable based on a given condition. It takes two arguments: a function that returns a Boolean value and an iterable (such as a list, tuple, or dictionary) that needs to be filtered. The function is applied to each element in the iterable, and if the function returns True, the element is included in the output."
   ]
  },
  {
   "cell_type": "code",
   "execution_count": null,
   "id": "e79080f6-35e0-4731-8b6f-6b7a02124cd0",
   "metadata": {},
   "outputs": [],
   "source": []
  },
  {
   "cell_type": "markdown",
   "id": "6c5e936a-b11f-4280-81df-ce5fb27cc9c3",
   "metadata": {},
   "source": [
    "4.\tCreate a Python program that uses the `reduce()` function to find the product of all elements in a list."
   ]
  },
  {
   "cell_type": "code",
   "execution_count": 15,
   "id": "6ee55222-f343-47b0-ae7b-c7dddcee0214",
   "metadata": {},
   "outputs": [],
   "source": [
    "from functools import reduce"
   ]
  },
  {
   "cell_type": "code",
   "execution_count": 17,
   "id": "4e0c6c7e-27e7-42a8-a573-a2dc44efb8f7",
   "metadata": {},
   "outputs": [
    {
     "data": {
      "text/plain": [
       "120"
      ]
     },
     "execution_count": 17,
     "metadata": {},
     "output_type": "execute_result"
    }
   ],
   "source": [
    "reduce(lambda a,b:a*b,[1,2,3,4,5])"
   ]
  },
  {
   "cell_type": "code",
   "execution_count": null,
   "id": "e1e19f68-7fda-40f0-bb39-759081b183b4",
   "metadata": {},
   "outputs": [],
   "source": []
  },
  {
   "cell_type": "markdown",
   "id": "23b501ca-365c-48a6-8e0d-22251760e7f0",
   "metadata": {},
   "source": [
    "## Function Documentation and Best Practices:"
   ]
  },
  {
   "cell_type": "code",
   "execution_count": null,
   "id": "604e5eb0-b632-4162-9309-eea872be88c6",
   "metadata": {},
   "outputs": [],
   "source": []
  },
  {
   "cell_type": "markdown",
   "id": "a4ac0801-de5d-4e5a-961c-4d4cdee98e99",
   "metadata": {},
   "source": [
    "1.\tExplain the purpose of docstrings in Python functions and how to write them."
   ]
  },
  {
   "cell_type": "markdown",
   "id": "a99636d7-cc50-4ef6-8687-195269ead0c1",
   "metadata": {},
   "source": [
    "Purpose of Docstrings:\n",
    "\n",
    "Clarity and understanding: Docstrings provide detailed information about what a function does, how it works, and what arguments it takes. This makes your code much easier to understand for you and others, especially when coming back to it later or collaborating with others.\n",
    "\n",
    "Code maintainability: By documenting your code with docstrings, you're providing valuable context that makes it easier to modify, debug, and extend the code in the future.\n",
    "\n",
    "Automatic documentation generation: Many tools and libraries leverage docstrings to generate API documentation. This automates the process of creating comprehensive documentation for your codebase.\n",
    "\n",
    "Code readability and discoverability: Good docstrings can improve the readability and discoverability of your code. Tools like IDEs can use docstrings to provide autocompletion and context-sensitive help."
   ]
  },
  {
   "cell_type": "code",
   "execution_count": null,
   "id": "23a8b07e-ff4c-4494-be4b-0a1d309e59f2",
   "metadata": {},
   "outputs": [],
   "source": []
  },
  {
   "cell_type": "markdown",
   "id": "fb6f4b30-22c2-402a-9bf1-512eaa0706db",
   "metadata": {},
   "source": [
    "2.\tDescribe some best practices for naming functions and variables in Python, including naming conventions and guidelines."
   ]
  },
  {
   "cell_type": "markdown",
   "id": "211d7588-ddfd-40a2-8310-4d4e0eb994ea",
   "metadata": {},
   "source": [
    "Naming Conventions:\n",
    "\n",
    "Snake Case: Use lowercase words separated by underscores. This is the standard convention for functions and variables in Python.\n",
    "\n",
    "Camel Case: Capitalize the first letter of each word to denote class names. For methods within classes, you can either use snake case or camel case starting with a lowercase letter.\n",
    "\n",
    "Pascal Case: Similar to camel case but capitalizes the first letter of every word. This is typically used for constants and global variables.\n",
    "Avoid abbreviations: Unless widely recognized, stick to full words to avoid confusion.\n",
    "\n",
    "Consistency: Choose a naming convention and stick to it throughout your code for a consistent and predictable style.\n",
    "\n",
    "Guidelines:\n",
    "\n",
    "Descriptive: Choose names that clearly reflect the purpose of the function or the meaning of the variable. Avoid vague names like \"x\" or \"y\".\n",
    "\n",
    "Conciseness: Aim for balance between descriptiveness and brevity. Don't use overly long names, but ensure they convey enough information.\n",
    "\n",
    "Uniqueness: Avoid naming functions and variables the same to prevent confusion and potential errors.\n",
    "\n",
    "Meaningful abbreviations: If necessary, use clear abbreviations that are easily understood by readers familiar with the context.\n",
    "Avoid homophones: Choose names that don't sound similar to other names to prevent typos and misinterpretations.\n",
    "\n",
    "Consider context: Adapt your naming style to the context of your code. For internal functions or variables, conciseness might be acceptable, while in public APIs, descriptive names are crucial."
   ]
  },
  {
   "cell_type": "code",
   "execution_count": null,
   "id": "e8f1cd07-dc91-4ade-a62d-f2bd72bde949",
   "metadata": {},
   "outputs": [],
   "source": []
  }
 ],
 "metadata": {
  "kernelspec": {
   "display_name": "Python 3 (ipykernel)",
   "language": "python",
   "name": "python3"
  },
  "language_info": {
   "codemirror_mode": {
    "name": "ipython",
    "version": 3
   },
   "file_extension": ".py",
   "mimetype": "text/x-python",
   "name": "python",
   "nbconvert_exporter": "python",
   "pygments_lexer": "ipython3",
   "version": "3.12.0"
  }
 },
 "nbformat": 4,
 "nbformat_minor": 5
}
